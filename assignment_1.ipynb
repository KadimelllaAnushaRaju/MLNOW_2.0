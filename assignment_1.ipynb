{
  "nbformat": 4,
  "nbformat_minor": 0,
  "metadata": {
    "colab": {
      "name": "assignment_1.ipynb",
      "provenance": [],
      "collapsed_sections": [],
      "authorship_tag": "ABX9TyOcAGw3NrN0NxDOBVY6BcWA",
      "include_colab_link": true
    },
    "kernelspec": {
      "name": "python3",
      "display_name": "Python 3"
    },
    "language_info": {
      "name": "python"
    }
  },
  "cells": [
    {
      "cell_type": "markdown",
      "metadata": {
        "id": "view-in-github",
        "colab_type": "text"
      },
      "source": [
        "<a href=\"https://colab.research.google.com/github/KadimelllaAnushaRaju/MLnow_2.0/blob/main/assignment_1.ipynb\" target=\"_parent\"><img src=\"https://colab.research.google.com/assets/colab-badge.svg\" alt=\"Open In Colab\"/></a>"
      ]
    },
    {
      "cell_type": "markdown",
      "metadata": {
        "id": "LvZinbNqZuHS"
      },
      "source": [
        "[Link to Download the dataset](https://www.kaggle.com/hdawkins/student-performance)\n",
        "\n",
        "**Date Created**: June , 2021\n",
        "\n",
        "Topic: Univariate Linear Regression\n",
        "\n",
        "**Author**:ANUSHA RAJU\n",
        "\n",
        "[[Assessment Repository](https://github.com/KadimelllaAnushaRaju/MLnow_2.0)]"
      ]
    },
    {
      "cell_type": "code",
      "metadata": {
        "colab": {
          "base_uri": "https://localhost:8080/"
        },
        "id": "dHfz2Jts8ThT",
        "outputId": "c827076a-d38f-4671-eba7-738b4fc50ef6"
      },
      "source": [
        "from google.colab import drive\n",
        "drive.mount('/content/drive')"
      ],
      "execution_count": 56,
      "outputs": [
        {
          "output_type": "stream",
          "text": [
            "Drive already mounted at /content/drive; to attempt to forcibly remount, call drive.mount(\"/content/drive\", force_remount=True).\n"
          ],
          "name": "stdout"
        }
      ]
    },
    {
      "cell_type": "code",
      "metadata": {
        "colab": {
          "base_uri": "https://localhost:8080/"
        },
        "id": "ggJq31_H8z9B",
        "outputId": "63694df8-0874-4ca1-ba59-5e6ebcd2e0a2"
      },
      "source": [
        "cd '/content/drive/MyDrive/assignment1/students_exam'"
      ],
      "execution_count": 66,
      "outputs": [
        {
          "output_type": "stream",
          "text": [
            "/content/drive/MyDrive/assignment1/students_exam\n"
          ],
          "name": "stdout"
        }
      ]
    },
    {
      "cell_type": "code",
      "metadata": {
        "colab": {
          "base_uri": "https://localhost:8080/"
        },
        "id": "F-VFy0u49jK1",
        "outputId": "cc32d825-d466-4079-a320-451cf117a28c"
      },
      "source": [
        "ls"
      ],
      "execution_count": 67,
      "outputs": [
        {
          "output_type": "stream",
          "text": [
            "response_data.csv  response_merge.gdoc  response_merge.txt  school_data.csv\n"
          ],
          "name": "stdout"
        }
      ]
    },
    {
      "cell_type": "code",
      "metadata": {
        "id": "xfHyoMhtDdkB"
      },
      "source": [
        "import os"
      ],
      "execution_count": 68,
      "outputs": []
    },
    {
      "cell_type": "code",
      "metadata": {
        "id": "_hlVb3tHDjaQ"
      },
      "source": [
        "import pandas as pd #working with csv or excel files\n",
        "import numpy as np #working with numbers/ arrays/ tensors\n",
        "import tensorflow as tf #framework\n",
        "from tensorflow import keras #API / library \n",
        "import os #using os commands between the python language"
      ],
      "execution_count": 69,
      "outputs": []
    },
    {
      "cell_type": "code",
      "metadata": {
        "id": "1ZFaO6ILEDG_"
      },
      "source": [
        "mathData = pd.read_csv('school_data.csv', sep=',') #load the csv file as dataframe"
      ],
      "execution_count": 70,
      "outputs": []
    },
    {
      "cell_type": "code",
      "metadata": {
        "colab": {
          "base_uri": "https://localhost:8080/",
          "height": 357
        },
        "id": "AguXDSHyGS6Y",
        "outputId": "1f9bd3e4-45d9-4b83-a79e-889ca7ef1c2c"
      },
      "source": [
        "mathData.head(10) #print the first ten rows of the dataframe"
      ],
      "execution_count": 71,
      "outputs": [
        {
          "output_type": "execute_result",
          "data": {
            "text/html": [
              "<div>\n",
              "<style scoped>\n",
              "    .dataframe tbody tr th:only-of-type {\n",
              "        vertical-align: middle;\n",
              "    }\n",
              "\n",
              "    .dataframe tbody tr th {\n",
              "        vertical-align: top;\n",
              "    }\n",
              "\n",
              "    .dataframe thead th {\n",
              "        text-align: right;\n",
              "    }\n",
              "</style>\n",
              "<table border=\"1\" class=\"dataframe\">\n",
              "  <thead>\n",
              "    <tr style=\"text-align: right;\">\n",
              "      <th></th>\n",
              "      <th>School</th>\n",
              "      <th>School_ID</th>\n",
              "      <th>Board</th>\n",
              "      <th>Board_ID</th>\n",
              "      <th>Num_students</th>\n",
              "      <th>Level1</th>\n",
              "      <th>Level2</th>\n",
              "      <th>Level3</th>\n",
              "      <th>Level4</th>\n",
              "      <th>NumF</th>\n",
              "      <th>NumM</th>\n",
              "      <th>Numresponses</th>\n",
              "    </tr>\n",
              "  </thead>\n",
              "  <tbody>\n",
              "    <tr>\n",
              "      <th>0</th>\n",
              "      <td>Agincourt CI</td>\n",
              "      <td>890723</td>\n",
              "      <td>Toronto DSB</td>\n",
              "      <td>66052</td>\n",
              "      <td>263</td>\n",
              "      <td>1</td>\n",
              "      <td>7</td>\n",
              "      <td>73</td>\n",
              "      <td>18</td>\n",
              "      <td>138</td>\n",
              "      <td>125</td>\n",
              "      <td>237</td>\n",
              "    </tr>\n",
              "    <tr>\n",
              "      <th>1</th>\n",
              "      <td>Albert Campbell CI</td>\n",
              "      <td>890880</td>\n",
              "      <td>Toronto DSB</td>\n",
              "      <td>66052</td>\n",
              "      <td>250</td>\n",
              "      <td>6</td>\n",
              "      <td>10</td>\n",
              "      <td>70</td>\n",
              "      <td>13</td>\n",
              "      <td>116</td>\n",
              "      <td>134</td>\n",
              "      <td>182</td>\n",
              "    </tr>\n",
              "    <tr>\n",
              "      <th>2</th>\n",
              "      <td>Applewood Heights SS</td>\n",
              "      <td>892203</td>\n",
              "      <td>Peel District School Board</td>\n",
              "      <td>66125</td>\n",
              "      <td>184</td>\n",
              "      <td>8</td>\n",
              "      <td>11</td>\n",
              "      <td>74</td>\n",
              "      <td>4</td>\n",
              "      <td>89</td>\n",
              "      <td>95</td>\n",
              "      <td>172</td>\n",
              "    </tr>\n",
              "    <tr>\n",
              "      <th>3</th>\n",
              "      <td>Birchmount Park CI</td>\n",
              "      <td>895016</td>\n",
              "      <td>Toronto DSB</td>\n",
              "      <td>66052</td>\n",
              "      <td>127</td>\n",
              "      <td>6</td>\n",
              "      <td>23</td>\n",
              "      <td>66</td>\n",
              "      <td>2</td>\n",
              "      <td>53</td>\n",
              "      <td>74</td>\n",
              "      <td>116</td>\n",
              "    </tr>\n",
              "    <tr>\n",
              "      <th>4</th>\n",
              "      <td>Bramalea SS</td>\n",
              "      <td>895920</td>\n",
              "      <td>Peel District School Board</td>\n",
              "      <td>66125</td>\n",
              "      <td>165</td>\n",
              "      <td>9</td>\n",
              "      <td>18</td>\n",
              "      <td>68</td>\n",
              "      <td>4</td>\n",
              "      <td>67</td>\n",
              "      <td>98</td>\n",
              "      <td>114</td>\n",
              "    </tr>\n",
              "    <tr>\n",
              "      <th>5</th>\n",
              "      <td>Brampton Centennial SS</td>\n",
              "      <td>896055</td>\n",
              "      <td>Peel District School Board</td>\n",
              "      <td>66125</td>\n",
              "      <td>151</td>\n",
              "      <td>6</td>\n",
              "      <td>8</td>\n",
              "      <td>77</td>\n",
              "      <td>9</td>\n",
              "      <td>70</td>\n",
              "      <td>81</td>\n",
              "      <td>141</td>\n",
              "    </tr>\n",
              "    <tr>\n",
              "      <th>6</th>\n",
              "      <td>C W Jefferys CI</td>\n",
              "      <td>897744</td>\n",
              "      <td>Toronto DSB</td>\n",
              "      <td>66052</td>\n",
              "      <td>109</td>\n",
              "      <td>17</td>\n",
              "      <td>23</td>\n",
              "      <td>50</td>\n",
              "      <td>7</td>\n",
              "      <td>51</td>\n",
              "      <td>58</td>\n",
              "      <td>101</td>\n",
              "    </tr>\n",
              "    <tr>\n",
              "      <th>7</th>\n",
              "      <td>Cameron Heights CI</td>\n",
              "      <td>898090</td>\n",
              "      <td>Waterloo Region DSB</td>\n",
              "      <td>66176</td>\n",
              "      <td>348</td>\n",
              "      <td>3</td>\n",
              "      <td>7</td>\n",
              "      <td>70</td>\n",
              "      <td>19</td>\n",
              "      <td>196</td>\n",
              "      <td>152</td>\n",
              "      <td>300</td>\n",
              "    </tr>\n",
              "    <tr>\n",
              "      <th>8</th>\n",
              "      <td>Rosedale Heights School of the Arts</td>\n",
              "      <td>898910</td>\n",
              "      <td>Toronto DSB</td>\n",
              "      <td>66052</td>\n",
              "      <td>185</td>\n",
              "      <td>6</td>\n",
              "      <td>12</td>\n",
              "      <td>76</td>\n",
              "      <td>4</td>\n",
              "      <td>150</td>\n",
              "      <td>35</td>\n",
              "      <td>172</td>\n",
              "    </tr>\n",
              "    <tr>\n",
              "      <th>9</th>\n",
              "      <td>Cawthra Park SS</td>\n",
              "      <td>899003</td>\n",
              "      <td>Peel District School Board</td>\n",
              "      <td>66125</td>\n",
              "      <td>305</td>\n",
              "      <td>2</td>\n",
              "      <td>5</td>\n",
              "      <td>73</td>\n",
              "      <td>20</td>\n",
              "      <td>213</td>\n",
              "      <td>92</td>\n",
              "      <td>293</td>\n",
              "    </tr>\n",
              "  </tbody>\n",
              "</table>\n",
              "</div>"
            ],
            "text/plain": [
              "                                School  School_ID  ... NumM  Numresponses\n",
              "0                         Agincourt CI     890723  ...  125           237\n",
              "1                   Albert Campbell CI     890880  ...  134           182\n",
              "2                 Applewood Heights SS     892203  ...   95           172\n",
              "3                   Birchmount Park CI     895016  ...   74           116\n",
              "4                          Bramalea SS     895920  ...   98           114\n",
              "5               Brampton Centennial SS     896055  ...   81           141\n",
              "6                      C W Jefferys CI     897744  ...   58           101\n",
              "7                   Cameron Heights CI     898090  ...  152           300\n",
              "8  Rosedale Heights School of the Arts     898910  ...   35           172\n",
              "9                      Cawthra Park SS     899003  ...   92           293\n",
              "\n",
              "[10 rows x 12 columns]"
            ]
          },
          "metadata": {
            "tags": []
          },
          "execution_count": 71
        }
      ]
    },
    {
      "cell_type": "code",
      "metadata": {
        "colab": {
          "base_uri": "https://localhost:8080/",
          "height": 203
        },
        "id": "9stSXrpRGyGc",
        "outputId": "c0dd0044-8e30-4b34-925c-6387254c2dbd"
      },
      "source": [
        "uniMathData = mathData[[\"Level1\", \"Level4\"]]\n",
        "uniMathData.head(5)"
      ],
      "execution_count": 80,
      "outputs": [
        {
          "output_type": "execute_result",
          "data": {
            "text/html": [
              "<div>\n",
              "<style scoped>\n",
              "    .dataframe tbody tr th:only-of-type {\n",
              "        vertical-align: middle;\n",
              "    }\n",
              "\n",
              "    .dataframe tbody tr th {\n",
              "        vertical-align: top;\n",
              "    }\n",
              "\n",
              "    .dataframe thead th {\n",
              "        text-align: right;\n",
              "    }\n",
              "</style>\n",
              "<table border=\"1\" class=\"dataframe\">\n",
              "  <thead>\n",
              "    <tr style=\"text-align: right;\">\n",
              "      <th></th>\n",
              "      <th>Level1</th>\n",
              "      <th>Level4</th>\n",
              "    </tr>\n",
              "  </thead>\n",
              "  <tbody>\n",
              "    <tr>\n",
              "      <th>0</th>\n",
              "      <td>1</td>\n",
              "      <td>18</td>\n",
              "    </tr>\n",
              "    <tr>\n",
              "      <th>1</th>\n",
              "      <td>6</td>\n",
              "      <td>13</td>\n",
              "    </tr>\n",
              "    <tr>\n",
              "      <th>2</th>\n",
              "      <td>8</td>\n",
              "      <td>4</td>\n",
              "    </tr>\n",
              "    <tr>\n",
              "      <th>3</th>\n",
              "      <td>6</td>\n",
              "      <td>2</td>\n",
              "    </tr>\n",
              "    <tr>\n",
              "      <th>4</th>\n",
              "      <td>9</td>\n",
              "      <td>4</td>\n",
              "    </tr>\n",
              "  </tbody>\n",
              "</table>\n",
              "</div>"
            ],
            "text/plain": [
              "   Level1  Level4\n",
              "0       1      18\n",
              "1       6      13\n",
              "2       8       4\n",
              "3       6       2\n",
              "4       9       4"
            ]
          },
          "metadata": {
            "tags": []
          },
          "execution_count": 80
        }
      ]
    },
    {
      "cell_type": "code",
      "metadata": {
        "id": "J5DEDDvrRzrw"
      },
      "source": [
        "uniMathData.to_csv('univariate_MathData_2.csv')"
      ],
      "execution_count": 75,
      "outputs": []
    },
    {
      "cell_type": "code",
      "metadata": {
        "colab": {
          "base_uri": "https://localhost:8080/"
        },
        "id": "9K_gHXKXR23H",
        "outputId": "6849ef8a-fe61-4c09-bfe0-509bcba47c2f"
      },
      "source": [
        "ls"
      ],
      "execution_count": 76,
      "outputs": [
        {
          "output_type": "stream",
          "text": [
            "response_data.csv    response_merge.txt  univariate_MathData_2.csv\n",
            "response_merge.gdoc  school_data.csv\n"
          ],
          "name": "stdout"
        }
      ]
    },
    {
      "cell_type": "code",
      "metadata": {
        "id": "EYdUDRsqR-7L"
      },
      "source": [
        "#Data visualization"
      ],
      "execution_count": 78,
      "outputs": []
    },
    {
      "cell_type": "code",
      "metadata": {
        "colab": {
          "base_uri": "https://localhost:8080/",
          "height": 157
        },
        "id": "9M27K7hER9Ef",
        "outputId": "981bf08e-fdd8-4726-bd29-d88f97e3de3f"
      },
      "source": [
        "import seaborn as sns\n",
        "sns.palplot(sns.color_palette('PuOr')) #Purple to Orange colors\n",
        "pal = sns.color_palette('PuOr', 6) #print 6 color shades from Purple to Orange\n",
        "pal.as_hex() #set hex code values for colors\n",
        "\n",
        "import matplotlib.pyplot as plt\n",
        "plt.style.use(['seaborn'])\n",
        "sns_colors = ['#c6690c', '#664697'] #orange Purple hex codes\n",
        "sns.set_palette(sns_colors) #set the palette as sns_colors \n",
        "sns.palplot(sns.color_palette(sns_colors)) #plot the color codes\n"
      ],
      "execution_count": 77,
      "outputs": [
        {
          "output_type": "display_data",
          "data": {
            "image/png": "[encoded data removed]",
            "text/plain": [
              "<Figure size 432x72 with 1 Axes>"
            ]
          },
          "metadata": {
            "tags": [],
            "needs_background": "light"
          }
        },
        {
          "output_type": "display_data",
          "data": {
            "image/png": "[encoded data removed]",
            "text/plain": [
              "<Figure size 144x72 with 1 Axes>"
            ]
          },
          "metadata": {
            "tags": []
          }
        }
      ]
    },
    {
      "cell_type": "code",
      "metadata": {
        "colab": {
          "base_uri": "https://localhost:8080/"
        },
        "id": "h1Lr1l7VSHKx",
        "outputId": "1ef3c13c-914e-4b4a-c2dc-9808bd407155"
      },
      "source": [
        "uniMathData.columns #columns in the dataframe"
      ],
      "execution_count": 79,
      "outputs": [
        {
          "output_type": "execute_result",
          "data": {
            "text/plain": [
              "Index(['Level1', 'Level4'], dtype='object')"
            ]
          },
          "metadata": {
            "tags": []
          },
          "execution_count": 79
        }
      ]
    },
    {
      "cell_type": "code",
      "metadata": {
        "colab": {
          "base_uri": "https://localhost:8080/",
          "height": 391
        },
        "id": "TZTuofjASLku",
        "outputId": "3ef5352a-656e-4b03-92e9-d115a5292799"
      },
      "source": [
        "#pairplot for all the values\n",
        "\n",
        "sns.pairplot(uniMathData,\n",
        "             x_vars = [\"Level1\", \"Level4\"],\n",
        "             y_vars =  [\"Level1\", \"Level4\"],\n",
        "       diag_kind='kde'\n",
        "             )"
      ],
      "execution_count": 81,
      "outputs": [
        {
          "output_type": "execute_result",
          "data": {
            "text/plain": [
              "<seaborn.axisgrid.PairGrid at 0x7fb671659d90>"
            ]
          },
          "metadata": {
            "tags": []
          },
          "execution_count": 81
        },
        {
          "output_type": "display_data",
          "data": {
            "image/png": "[encoded data removed]",
            "text/plain": [
              "<Figure size 360x360 with 6 Axes>"
            ]
          },
          "metadata": {
            "tags": []
          }
        }
      ]
    },
    {
      "cell_type": "code",
      "metadata": {
        "colab": {
          "base_uri": "https://localhost:8080/"
        },
        "id": "VfGhUI6VSvDQ",
        "outputId": "ec8df5a6-70f0-4130-d58f-fb629870e97e"
      },
      "source": [
        "#80-20 train-test percent split\n",
        "\n",
        "trainDataset = uniMathData.sample(frac=0.8, random_state=0) \n",
        "testDataset = uniMathData.drop(trainDataset.index)\n",
        "\n",
        "print(trainDataset.head())\n",
        "print(testDataset.head())"
      ],
      "execution_count": 82,
      "outputs": [
        {
          "output_type": "stream",
          "text": [
            "    Level1  Level4\n",
            "2        8       4\n",
            "13       3      14\n",
            "53       4      22\n",
            "41       7       5\n",
            "74       3      37\n",
            "    Level1  Level4\n",
            "9        2      20\n",
            "12       9       7\n",
            "21       1       7\n",
            "25       1      18\n",
            "36      12       3\n"
          ],
          "name": "stdout"
        }
      ]
    },
    {
      "cell_type": "code",
      "metadata": {
        "colab": {
          "base_uri": "https://localhost:8080/"
        },
        "id": "SMMWDsPbS1uv",
        "outputId": "d64eb97d-c564-41aa-ad83-95549f1b73dd"
      },
      "source": [
        "print(trainDataset.shape)\n",
        "print(testDataset.shape)"
      ],
      "execution_count": 83,
      "outputs": [
        {
          "output_type": "stream",
          "text": [
            "(69, 2)\n",
            "(17, 2)\n"
          ],
          "name": "stdout"
        }
      ]
    },
    {
      "cell_type": "code",
      "metadata": {
        "colab": {
          "base_uri": "https://localhost:8080/"
        },
        "id": "9tK6FV0cS6Tl",
        "outputId": "4f58cd19-c399-4cc5-89f7-72e2e73068b7"
      },
      "source": [
        "\n",
        "#copy the trainDataset dataframe for getting the features\n",
        "\n",
        "trainFeatures = trainDataset.copy()\n",
        "testFeatures = testDataset.copy()\n",
        "\n",
        "print(trainFeatures.head())\n",
        "print(testFeatures.head())"
      ],
      "execution_count": 84,
      "outputs": [
        {
          "output_type": "stream",
          "text": [
            "    Level1  Level4\n",
            "2        8       4\n",
            "13       3      14\n",
            "53       4      22\n",
            "41       7       5\n",
            "74       3      37\n",
            "    Level1  Level4\n",
            "9        2      20\n",
            "12       9       7\n",
            "21       1       7\n",
            "25       1      18\n",
            "36      12       3\n"
          ],
          "name": "stdout"
        }
      ]
    },
    {
      "cell_type": "code",
      "metadata": {
        "colab": {
          "base_uri": "https://localhost:8080/"
        },
        "id": "DNHbj9LsS-lg",
        "outputId": "07119c73-e973-42ad-ad1e-3d44fe34f3a3"
      },
      "source": [
        "#removing the G3 column and saving it into the labels variable\n",
        "\n",
        "trainLabels = trainFeatures.pop('Level4')\n",
        "testLabels = testFeatures.pop('Level4')\n",
        "\n",
        "print(trainLabels.head())\n",
        "print(testLabels.head())"
      ],
      "execution_count": 87,
      "outputs": [
        {
          "output_type": "stream",
          "text": [
            "2      4\n",
            "13    14\n",
            "53    22\n",
            "41     5\n",
            "74    37\n",
            "Name: Level4, dtype: int64\n",
            "9     20\n",
            "12     7\n",
            "21     7\n",
            "25    18\n",
            "36     3\n",
            "Name: Level4, dtype: int64\n"
          ],
          "name": "stdout"
        }
      ]
    },
    {
      "cell_type": "code",
      "metadata": {
        "colab": {
          "base_uri": "https://localhost:8080/"
        },
        "id": "OfpIx3SITkuZ",
        "outputId": "eb03dff8-3177-48c7-8d5c-b3844e983005"
      },
      "source": [
        "print(trainFeatures.head())\n",
        "print(testFeatures.head())"
      ],
      "execution_count": 140,
      "outputs": [
        {
          "output_type": "stream",
          "text": [
            "    Level1\n",
            "2        8\n",
            "13       3\n",
            "53       4\n",
            "41       7\n",
            "74       3\n",
            "    Level1\n",
            "9        2\n",
            "12       9\n",
            "21       1\n",
            "25       1\n",
            "36      12\n"
          ],
          "name": "stdout"
        }
      ]
    },
    {
      "cell_type": "code",
      "metadata": {
        "id": "gA9d9A1tTpHl"
      },
      "source": [
        "# univariate -> num(features) = 1\n",
        "# multvariate -> num(features) > 1 = 11\n",
        "\n",
        "\n",
        "model = tf.keras.Sequential([\n",
        "                             tf.keras.layers.Dense(1)\n",
        "\n",
        "])"
      ],
      "execution_count": 141,
      "outputs": []
    },
    {
      "cell_type": "code",
      "metadata": {
        "id": "sUjS5WRyTvB7"
      },
      "source": [
        "model.compile(\n",
        "    loss = 'mean_absolute_error', #minimizing the MAE loss\n",
        "    optimizer = tf.keras.optimizers.Adam(0.001), #learning rate specified as 0.001\n",
        "    # optimizer = 'adam', #takes the default learning rate\n",
        "    metrics = ['mae', 'mse'] #meanSquare and meanAbsolute error metrics\n",
        ")"
      ],
      "execution_count": 142,
      "outputs": []
    },
    {
      "cell_type": "code",
      "metadata": {
        "colab": {
          "base_uri": "https://localhost:8080/"
        },
        "id": "vEhQqmw8Tz2j",
        "outputId": "c079581b-317e-4fbe-d2bc-a755db49efb6"
      },
      "source": [
        "numEpochs = 300\n",
        "history = model.fit(x = trainFeatures, y = trainLabels, validation_data = (testFeatures, testLabels), epochs = numEpochs)"
      ],
      "execution_count": 161,
      "outputs": [
        {
          "output_type": "stream",
          "text": [
            "Epoch 1/300\n",
            "3/3 [==============================] - 0s 27ms/step - loss: 8.5736 - mae: 8.5736 - mse: 143.3037 - val_loss: 5.6019 - val_mae: 5.6019 - val_mse: 52.7782\n",
            "Epoch 2/300\n",
            "3/3 [==============================] - 0s 11ms/step - loss: 8.5724 - mae: 8.5724 - mse: 143.2726 - val_loss: 5.6006 - val_mae: 5.6006 - val_mse: 52.7626\n",
            "Epoch 3/300\n",
            "3/3 [==============================] - 0s 12ms/step - loss: 8.5711 - mae: 8.5711 - mse: 143.2455 - val_loss: 5.5997 - val_mae: 5.5997 - val_mse: 52.7555\n",
            "Epoch 4/300\n",
            "3/3 [==============================] - 0s 11ms/step - loss: 8.5697 - mae: 8.5697 - mse: 143.2239 - val_loss: 5.5986 - val_mae: 5.5986 - val_mse: 52.7451\n",
            "Epoch 5/300\n",
            "3/3 [==============================] - 0s 11ms/step - loss: 8.5685 - mae: 8.5685 - mse: 143.1980 - val_loss: 5.5973 - val_mae: 5.5973 - val_mse: 52.7296\n",
            "Epoch 6/300\n",
            "3/3 [==============================] - 0s 11ms/step - loss: 8.5671 - mae: 8.5671 - mse: 143.1692 - val_loss: 5.5960 - val_mae: 5.5960 - val_mse: 52.7155\n",
            "Epoch 7/300\n",
            "3/3 [==============================] - 0s 9ms/step - loss: 8.5658 - mae: 8.5658 - mse: 143.1427 - val_loss: 5.5949 - val_mae: 5.5949 - val_mse: 52.7048\n",
            "Epoch 8/300\n",
            "3/3 [==============================] - 0s 11ms/step - loss: 8.5644 - mae: 8.5644 - mse: 143.1148 - val_loss: 5.5936 - val_mae: 5.5936 - val_mse: 52.6893\n",
            "Epoch 9/300\n",
            "3/3 [==============================] - 0s 11ms/step - loss: 8.5632 - mae: 8.5632 - mse: 143.0865 - val_loss: 5.5920 - val_mae: 5.5920 - val_mse: 52.6693\n",
            "Epoch 10/300\n",
            "3/3 [==============================] - 0s 11ms/step - loss: 8.5619 - mae: 8.5619 - mse: 143.0521 - val_loss: 5.5903 - val_mae: 5.5903 - val_mse: 52.6459\n",
            "Epoch 11/300\n",
            "3/3 [==============================] - 0s 11ms/step - loss: 8.5606 - mae: 8.5606 - mse: 143.0190 - val_loss: 5.5890 - val_mae: 5.5890 - val_mse: 52.6304\n",
            "Epoch 12/300\n",
            "3/3 [==============================] - 0s 14ms/step - loss: 8.5593 - mae: 8.5593 - mse: 142.9903 - val_loss: 5.5875 - val_mae: 5.5875 - val_mse: 52.6115\n",
            "Epoch 13/300\n",
            "3/3 [==============================] - 0s 9ms/step - loss: 8.5580 - mae: 8.5580 - mse: 142.9586 - val_loss: 5.5861 - val_mae: 5.5861 - val_mse: 52.5937\n",
            "Epoch 14/300\n",
            "3/3 [==============================] - 0s 11ms/step - loss: 8.5568 - mae: 8.5568 - mse: 142.9294 - val_loss: 5.5847 - val_mae: 5.5847 - val_mse: 52.5775\n",
            "Epoch 15/300\n",
            "3/3 [==============================] - 0s 9ms/step - loss: 8.5556 - mae: 8.5556 - mse: 142.8999 - val_loss: 5.5832 - val_mae: 5.5832 - val_mse: 52.5577\n",
            "Epoch 16/300\n",
            "3/3 [==============================] - 0s 10ms/step - loss: 8.5543 - mae: 8.5543 - mse: 142.8692 - val_loss: 5.5821 - val_mae: 5.5821 - val_mse: 52.5459\n",
            "Epoch 17/300\n",
            "3/3 [==============================] - 0s 11ms/step - loss: 8.5534 - mae: 8.5534 - mse: 142.8484 - val_loss: 5.5812 - val_mae: 5.5812 - val_mse: 52.5362\n",
            "Epoch 18/300\n",
            "3/3 [==============================] - 0s 11ms/step - loss: 8.5521 - mae: 8.5521 - mse: 142.8219 - val_loss: 5.5797 - val_mae: 5.5797 - val_mse: 52.5176\n",
            "Epoch 19/300\n",
            "3/3 [==============================] - 0s 11ms/step - loss: 8.5509 - mae: 8.5509 - mse: 142.7929 - val_loss: 5.5783 - val_mae: 5.5783 - val_mse: 52.5000\n",
            "Epoch 20/300\n",
            "3/3 [==============================] - 0s 12ms/step - loss: 8.5497 - mae: 8.5497 - mse: 142.7602 - val_loss: 5.5766 - val_mae: 5.5766 - val_mse: 52.4751\n",
            "Epoch 21/300\n",
            "3/3 [==============================] - 0s 11ms/step - loss: 8.5483 - mae: 8.5483 - mse: 142.7255 - val_loss: 5.5754 - val_mae: 5.5754 - val_mse: 52.4616\n",
            "Epoch 22/300\n",
            "3/3 [==============================] - 0s 12ms/step - loss: 8.5472 - mae: 8.5472 - mse: 142.7013 - val_loss: 5.5744 - val_mae: 5.5744 - val_mse: 52.4527\n",
            "Epoch 23/300\n",
            "3/3 [==============================] - 0s 11ms/step - loss: 8.5460 - mae: 8.5460 - mse: 142.6800 - val_loss: 5.5733 - val_mae: 5.5733 - val_mse: 52.4394\n",
            "Epoch 24/300\n",
            "3/3 [==============================] - 0s 11ms/step - loss: 8.5450 - mae: 8.5450 - mse: 142.6545 - val_loss: 5.5719 - val_mae: 5.5719 - val_mse: 52.4211\n",
            "Epoch 25/300\n",
            "3/3 [==============================] - 0s 10ms/step - loss: 8.5437 - mae: 8.5437 - mse: 142.6230 - val_loss: 5.5706 - val_mae: 5.5706 - val_mse: 52.4060\n",
            "Epoch 26/300\n",
            "3/3 [==============================] - 0s 10ms/step - loss: 8.5425 - mae: 8.5425 - mse: 142.5944 - val_loss: 5.5693 - val_mae: 5.5693 - val_mse: 52.3898\n",
            "Epoch 27/300\n",
            "3/3 [==============================] - 0s 10ms/step - loss: 8.5413 - mae: 8.5413 - mse: 142.5675 - val_loss: 5.5679 - val_mae: 5.5679 - val_mse: 52.3728\n",
            "Epoch 28/300\n",
            "3/3 [==============================] - 0s 10ms/step - loss: 8.5400 - mae: 8.5400 - mse: 142.5370 - val_loss: 5.5663 - val_mae: 5.5663 - val_mse: 52.3522\n",
            "Epoch 29/300\n",
            "3/3 [==============================] - 0s 13ms/step - loss: 8.5388 - mae: 8.5388 - mse: 142.5049 - val_loss: 5.5646 - val_mae: 5.5646 - val_mse: 52.3275\n",
            "Epoch 30/300\n",
            "3/3 [==============================] - 0s 10ms/step - loss: 8.5376 - mae: 8.5376 - mse: 142.4648 - val_loss: 5.5622 - val_mae: 5.5622 - val_mse: 52.2913\n",
            "Epoch 31/300\n",
            "3/3 [==============================] - 0s 12ms/step - loss: 8.5363 - mae: 8.5363 - mse: 142.4167 - val_loss: 5.5596 - val_mae: 5.5596 - val_mse: 52.2498\n",
            "Epoch 32/300\n",
            "3/3 [==============================] - 0s 11ms/step - loss: 8.5352 - mae: 8.5352 - mse: 142.3630 - val_loss: 5.5571 - val_mae: 5.5571 - val_mse: 52.2109\n",
            "Epoch 33/300\n",
            "3/3 [==============================] - 0s 10ms/step - loss: 8.5340 - mae: 8.5340 - mse: 142.3172 - val_loss: 5.5552 - val_mae: 5.5552 - val_mse: 52.1846\n",
            "Epoch 34/300\n",
            "3/3 [==============================] - 0s 11ms/step - loss: 8.5328 - mae: 8.5328 - mse: 142.2800 - val_loss: 5.5533 - val_mae: 5.5533 - val_mse: 52.1563\n",
            "Epoch 35/300\n",
            "3/3 [==============================] - 0s 13ms/step - loss: 8.5316 - mae: 8.5316 - mse: 142.2362 - val_loss: 5.5511 - val_mae: 5.5511 - val_mse: 52.1246\n",
            "Epoch 36/300\n",
            "3/3 [==============================] - 0s 10ms/step - loss: 8.5307 - mae: 8.5307 - mse: 142.1970 - val_loss: 5.5494 - val_mae: 5.5494 - val_mse: 52.1011\n",
            "Epoch 37/300\n",
            "3/3 [==============================] - 0s 13ms/step - loss: 8.5292 - mae: 8.5292 - mse: 142.1595 - val_loss: 5.5482 - val_mae: 5.5482 - val_mse: 52.0866\n",
            "Epoch 38/300\n",
            "3/3 [==============================] - 0s 11ms/step - loss: 8.5281 - mae: 8.5281 - mse: 142.1347 - val_loss: 5.5468 - val_mae: 5.5468 - val_mse: 52.0690\n",
            "Epoch 39/300\n",
            "3/3 [==============================] - 0s 11ms/step - loss: 8.5269 - mae: 8.5269 - mse: 142.1031 - val_loss: 5.5450 - val_mae: 5.5450 - val_mse: 52.0433\n",
            "Epoch 40/300\n",
            "3/3 [==============================] - 0s 12ms/step - loss: 8.5258 - mae: 8.5258 - mse: 142.0653 - val_loss: 5.5434 - val_mae: 5.5434 - val_mse: 52.0203\n",
            "Epoch 41/300\n",
            "3/3 [==============================] - 0s 12ms/step - loss: 8.5247 - mae: 8.5247 - mse: 142.0342 - val_loss: 5.5420 - val_mae: 5.5420 - val_mse: 52.0030\n",
            "Epoch 42/300\n",
            "3/3 [==============================] - 0s 12ms/step - loss: 8.5235 - mae: 8.5235 - mse: 142.0056 - val_loss: 5.5402 - val_mae: 5.5402 - val_mse: 51.9775\n",
            "Epoch 43/300\n",
            "3/3 [==============================] - 0s 11ms/step - loss: 8.5223 - mae: 8.5223 - mse: 141.9658 - val_loss: 5.5379 - val_mae: 5.5379 - val_mse: 51.9431\n",
            "Epoch 44/300\n",
            "3/3 [==============================] - 0s 10ms/step - loss: 8.5212 - mae: 8.5212 - mse: 141.9194 - val_loss: 5.5354 - val_mae: 5.5354 - val_mse: 51.9041\n",
            "Epoch 45/300\n",
            "3/3 [==============================] - 0s 11ms/step - loss: 8.5204 - mae: 8.5204 - mse: 141.8724 - val_loss: 5.5334 - val_mae: 5.5334 - val_mse: 51.8754\n",
            "Epoch 46/300\n",
            "3/3 [==============================] - 0s 14ms/step - loss: 8.5189 - mae: 8.5189 - mse: 141.8336 - val_loss: 5.5327 - val_mae: 5.5327 - val_mse: 51.8713\n",
            "Epoch 47/300\n",
            "3/3 [==============================] - 0s 11ms/step - loss: 8.5175 - mae: 8.5175 - mse: 141.8164 - val_loss: 5.5322 - val_mae: 5.5322 - val_mse: 51.8708\n",
            "Epoch 48/300\n",
            "3/3 [==============================] - 0s 13ms/step - loss: 8.5165 - mae: 8.5165 - mse: 141.8057 - val_loss: 5.5315 - val_mae: 5.5315 - val_mse: 51.8666\n",
            "Epoch 49/300\n",
            "3/3 [==============================] - 0s 11ms/step - loss: 8.5152 - mae: 8.5152 - mse: 141.7861 - val_loss: 5.5303 - val_mae: 5.5303 - val_mse: 51.8525\n",
            "Epoch 50/300\n",
            "3/3 [==============================] - 0s 14ms/step - loss: 8.5141 - mae: 8.5141 - mse: 141.7592 - val_loss: 5.5288 - val_mae: 5.5288 - val_mse: 51.8328\n",
            "Epoch 51/300\n",
            "3/3 [==============================] - 0s 11ms/step - loss: 8.5128 - mae: 8.5128 - mse: 141.7278 - val_loss: 5.5273 - val_mae: 5.5273 - val_mse: 51.8149\n",
            "Epoch 52/300\n",
            "3/3 [==============================] - 0s 10ms/step - loss: 8.5116 - mae: 8.5116 - mse: 141.6971 - val_loss: 5.5258 - val_mae: 5.5258 - val_mse: 51.7950\n",
            "Epoch 53/300\n",
            "3/3 [==============================] - 0s 9ms/step - loss: 8.5105 - mae: 8.5105 - mse: 141.6658 - val_loss: 5.5242 - val_mae: 5.5242 - val_mse: 51.7730\n",
            "Epoch 54/300\n",
            "3/3 [==============================] - 0s 10ms/step - loss: 8.5093 - mae: 8.5093 - mse: 141.6311 - val_loss: 5.5226 - val_mae: 5.5226 - val_mse: 51.7523\n",
            "Epoch 55/300\n",
            "3/3 [==============================] - 0s 9ms/step - loss: 8.5082 - mae: 8.5082 - mse: 141.5976 - val_loss: 5.5209 - val_mae: 5.5209 - val_mse: 51.7286\n",
            "Epoch 56/300\n",
            "3/3 [==============================] - 0s 10ms/step - loss: 8.5070 - mae: 8.5070 - mse: 141.5632 - val_loss: 5.5198 - val_mae: 5.5198 - val_mse: 51.7160\n",
            "Epoch 57/300\n",
            "3/3 [==============================] - 0s 11ms/step - loss: 8.5056 - mae: 8.5056 - mse: 141.5375 - val_loss: 5.5188 - val_mae: 5.5188 - val_mse: 51.7071\n",
            "Epoch 58/300\n",
            "3/3 [==============================] - 0s 11ms/step - loss: 8.5046 - mae: 8.5046 - mse: 141.5217 - val_loss: 5.5180 - val_mae: 5.5180 - val_mse: 51.7006\n",
            "Epoch 59/300\n",
            "3/3 [==============================] - 0s 12ms/step - loss: 8.5034 - mae: 8.5034 - mse: 141.4985 - val_loss: 5.5167 - val_mae: 5.5167 - val_mse: 51.6841\n",
            "Epoch 60/300\n",
            "3/3 [==============================] - 0s 12ms/step - loss: 8.5022 - mae: 8.5022 - mse: 141.4688 - val_loss: 5.5149 - val_mae: 5.5149 - val_mse: 51.6594\n",
            "Epoch 61/300\n",
            "3/3 [==============================] - 0s 13ms/step - loss: 8.5008 - mae: 8.5008 - mse: 141.4302 - val_loss: 5.5128 - val_mae: 5.5128 - val_mse: 51.6290\n",
            "Epoch 62/300\n",
            "3/3 [==============================] - 0s 12ms/step - loss: 8.4996 - mae: 8.4996 - mse: 141.3876 - val_loss: 5.5106 - val_mae: 5.5106 - val_mse: 51.5965\n",
            "Epoch 63/300\n",
            "3/3 [==============================] - 0s 10ms/step - loss: 8.4984 - mae: 8.4984 - mse: 141.3428 - val_loss: 5.5084 - val_mae: 5.5084 - val_mse: 51.5659\n",
            "Epoch 64/300\n",
            "3/3 [==============================] - 0s 11ms/step - loss: 8.4972 - mae: 8.4972 - mse: 141.2991 - val_loss: 5.5062 - val_mae: 5.5062 - val_mse: 51.5325\n",
            "Epoch 65/300\n",
            "3/3 [==============================] - 0s 12ms/step - loss: 8.4962 - mae: 8.4962 - mse: 141.2546 - val_loss: 5.5040 - val_mae: 5.5040 - val_mse: 51.5010\n",
            "Epoch 66/300\n",
            "3/3 [==============================] - 0s 22ms/step - loss: 8.4949 - mae: 8.4949 - mse: 141.2146 - val_loss: 5.5023 - val_mae: 5.5023 - val_mse: 51.4776\n",
            "Epoch 67/300\n",
            "3/3 [==============================] - 0s 13ms/step - loss: 8.4938 - mae: 8.4938 - mse: 141.1789 - val_loss: 5.5010 - val_mae: 5.5010 - val_mse: 51.4609\n",
            "Epoch 68/300\n",
            "3/3 [==============================] - 0s 13ms/step - loss: 8.4926 - mae: 8.4926 - mse: 141.1549 - val_loss: 5.5002 - val_mae: 5.5002 - val_mse: 51.4545\n",
            "Epoch 69/300\n",
            "3/3 [==============================] - 0s 11ms/step - loss: 8.4914 - mae: 8.4914 - mse: 141.1343 - val_loss: 5.4991 - val_mae: 5.4991 - val_mse: 51.4430\n",
            "Epoch 70/300\n",
            "3/3 [==============================] - 0s 10ms/step - loss: 8.4902 - mae: 8.4902 - mse: 141.1105 - val_loss: 5.4977 - val_mae: 5.4977 - val_mse: 51.4265\n",
            "Epoch 71/300\n",
            "3/3 [==============================] - 0s 12ms/step - loss: 8.4890 - mae: 8.4890 - mse: 141.0813 - val_loss: 5.4962 - val_mae: 5.4962 - val_mse: 51.4057\n",
            "Epoch 72/300\n",
            "3/3 [==============================] - 0s 12ms/step - loss: 8.4877 - mae: 8.4877 - mse: 141.0451 - val_loss: 5.4943 - val_mae: 5.4943 - val_mse: 51.3789\n",
            "Epoch 73/300\n",
            "3/3 [==============================] - 0s 11ms/step - loss: 8.4865 - mae: 8.4865 - mse: 141.0073 - val_loss: 5.4921 - val_mae: 5.4921 - val_mse: 51.3486\n",
            "Epoch 74/300\n",
            "3/3 [==============================] - 0s 13ms/step - loss: 8.4851 - mae: 8.4851 - mse: 140.9607 - val_loss: 5.4897 - val_mae: 5.4897 - val_mse: 51.3119\n",
            "Epoch 75/300\n",
            "3/3 [==============================] - 0s 10ms/step - loss: 8.4842 - mae: 8.4842 - mse: 140.9122 - val_loss: 5.4869 - val_mae: 5.4869 - val_mse: 51.2684\n",
            "Epoch 76/300\n",
            "3/3 [==============================] - 0s 12ms/step - loss: 8.4831 - mae: 8.4831 - mse: 140.8606 - val_loss: 5.4840 - val_mae: 5.4840 - val_mse: 51.2236\n",
            "Epoch 77/300\n",
            "3/3 [==============================] - 0s 11ms/step - loss: 8.4818 - mae: 8.4818 - mse: 140.8032 - val_loss: 5.4816 - val_mae: 5.4816 - val_mse: 51.1884\n",
            "Epoch 78/300\n",
            "3/3 [==============================] - 0s 10ms/step - loss: 8.4806 - mae: 8.4806 - mse: 140.7580 - val_loss: 5.4794 - val_mae: 5.4794 - val_mse: 51.1571\n",
            "Epoch 79/300\n",
            "3/3 [==============================] - 0s 11ms/step - loss: 8.4792 - mae: 8.4792 - mse: 140.7142 - val_loss: 5.4772 - val_mae: 5.4772 - val_mse: 51.1252\n",
            "Epoch 80/300\n",
            "3/3 [==============================] - 0s 11ms/step - loss: 8.4783 - mae: 8.4783 - mse: 140.6719 - val_loss: 5.4747 - val_mae: 5.4747 - val_mse: 51.0877\n",
            "Epoch 81/300\n",
            "3/3 [==============================] - 0s 10ms/step - loss: 8.4769 - mae: 8.4769 - mse: 140.6198 - val_loss: 5.4724 - val_mae: 5.4724 - val_mse: 51.0532\n",
            "Epoch 82/300\n",
            "3/3 [==============================] - 0s 10ms/step - loss: 8.4757 - mae: 8.4757 - mse: 140.5744 - val_loss: 5.4700 - val_mae: 5.4700 - val_mse: 51.0184\n",
            "Epoch 83/300\n",
            "3/3 [==============================] - 0s 10ms/step - loss: 8.4747 - mae: 8.4747 - mse: 140.5272 - val_loss: 5.4675 - val_mae: 5.4675 - val_mse: 50.9811\n",
            "Epoch 84/300\n",
            "3/3 [==============================] - 0s 10ms/step - loss: 8.4734 - mae: 8.4734 - mse: 140.4782 - val_loss: 5.4653 - val_mae: 5.4653 - val_mse: 50.9487\n",
            "Epoch 85/300\n",
            "3/3 [==============================] - 0s 10ms/step - loss: 8.4723 - mae: 8.4723 - mse: 140.4373 - val_loss: 5.4634 - val_mae: 5.4634 - val_mse: 50.9223\n",
            "Epoch 86/300\n",
            "3/3 [==============================] - 0s 11ms/step - loss: 8.4710 - mae: 8.4710 - mse: 140.4011 - val_loss: 5.4614 - val_mae: 5.4614 - val_mse: 50.8957\n",
            "Epoch 87/300\n",
            "3/3 [==============================] - 0s 11ms/step - loss: 8.4698 - mae: 8.4698 - mse: 140.3600 - val_loss: 5.4591 - val_mae: 5.4591 - val_mse: 50.8621\n",
            "Epoch 88/300\n",
            "3/3 [==============================] - 0s 14ms/step - loss: 8.4688 - mae: 8.4688 - mse: 140.3158 - val_loss: 5.4567 - val_mae: 5.4567 - val_mse: 50.8275\n",
            "Epoch 89/300\n",
            "3/3 [==============================] - 0s 12ms/step - loss: 8.4674 - mae: 8.4674 - mse: 140.2726 - val_loss: 5.4551 - val_mae: 5.4551 - val_mse: 50.8055\n",
            "Epoch 90/300\n",
            "3/3 [==============================] - 0s 10ms/step - loss: 8.4662 - mae: 8.4662 - mse: 140.2363 - val_loss: 5.4533 - val_mae: 5.4533 - val_mse: 50.7824\n",
            "Epoch 91/300\n",
            "3/3 [==============================] - 0s 12ms/step - loss: 8.4651 - mae: 8.4651 - mse: 140.2031 - val_loss: 5.4517 - val_mae: 5.4517 - val_mse: 50.7604\n",
            "Epoch 92/300\n",
            "3/3 [==============================] - 0s 13ms/step - loss: 8.4640 - mae: 8.4640 - mse: 140.1688 - val_loss: 5.4502 - val_mae: 5.4502 - val_mse: 50.7414\n",
            "Epoch 93/300\n",
            "3/3 [==============================] - 0s 11ms/step - loss: 8.4629 - mae: 8.4629 - mse: 140.1405 - val_loss: 5.4485 - val_mae: 5.4485 - val_mse: 50.7192\n",
            "Epoch 94/300\n",
            "3/3 [==============================] - 0s 10ms/step - loss: 8.4617 - mae: 8.4617 - mse: 140.1050 - val_loss: 5.4471 - val_mae: 5.4471 - val_mse: 50.7022\n",
            "Epoch 95/300\n",
            "3/3 [==============================] - 0s 12ms/step - loss: 8.4605 - mae: 8.4605 - mse: 140.0770 - val_loss: 5.4460 - val_mae: 5.4460 - val_mse: 50.6889\n",
            "Epoch 96/300\n",
            "3/3 [==============================] - 0s 11ms/step - loss: 8.4593 - mae: 8.4593 - mse: 140.0525 - val_loss: 5.4449 - val_mae: 5.4449 - val_mse: 50.6784\n",
            "Epoch 97/300\n",
            "3/3 [==============================] - 0s 11ms/step - loss: 8.4581 - mae: 8.4581 - mse: 140.0294 - val_loss: 5.4438 - val_mae: 5.4438 - val_mse: 50.6668\n",
            "Epoch 98/300\n",
            "3/3 [==============================] - 0s 14ms/step - loss: 8.4568 - mae: 8.4568 - mse: 140.0037 - val_loss: 5.4427 - val_mae: 5.4427 - val_mse: 50.6561\n",
            "Epoch 99/300\n",
            "3/3 [==============================] - 0s 11ms/step - loss: 8.4555 - mae: 8.4555 - mse: 139.9826 - val_loss: 5.4424 - val_mae: 5.4424 - val_mse: 50.6581\n",
            "Epoch 100/300\n",
            "3/3 [==============================] - 0s 10ms/step - loss: 8.4544 - mae: 8.4544 - mse: 139.9720 - val_loss: 5.4419 - val_mae: 5.4419 - val_mse: 50.6559\n",
            "Epoch 101/300\n",
            "3/3 [==============================] - 0s 12ms/step - loss: 8.4531 - mae: 8.4531 - mse: 139.9546 - val_loss: 5.4409 - val_mae: 5.4409 - val_mse: 50.6462\n",
            "Epoch 102/300\n",
            "3/3 [==============================] - 0s 13ms/step - loss: 8.4521 - mae: 8.4521 - mse: 139.9334 - val_loss: 5.4399 - val_mae: 5.4399 - val_mse: 50.6358\n",
            "Epoch 103/300\n",
            "3/3 [==============================] - 0s 12ms/step - loss: 8.4509 - mae: 8.4509 - mse: 139.9093 - val_loss: 5.4388 - val_mae: 5.4388 - val_mse: 50.6239\n",
            "Epoch 104/300\n",
            "3/3 [==============================] - 0s 13ms/step - loss: 8.4498 - mae: 8.4498 - mse: 139.8896 - val_loss: 5.4382 - val_mae: 5.4382 - val_mse: 50.6203\n",
            "Epoch 105/300\n",
            "3/3 [==============================] - 0s 13ms/step - loss: 8.4485 - mae: 8.4485 - mse: 139.8716 - val_loss: 5.4369 - val_mae: 5.4369 - val_mse: 50.6051\n",
            "Epoch 106/300\n",
            "3/3 [==============================] - 0s 12ms/step - loss: 8.4474 - mae: 8.4474 - mse: 139.8427 - val_loss: 5.4353 - val_mae: 5.4353 - val_mse: 50.5839\n",
            "Epoch 107/300\n",
            "3/3 [==============================] - 0s 12ms/step - loss: 8.4462 - mae: 8.4462 - mse: 139.8099 - val_loss: 5.4338 - val_mae: 5.4338 - val_mse: 50.5640\n",
            "Epoch 108/300\n",
            "3/3 [==============================] - 0s 13ms/step - loss: 8.4451 - mae: 8.4451 - mse: 139.7790 - val_loss: 5.4324 - val_mae: 5.4324 - val_mse: 50.5471\n",
            "Epoch 109/300\n",
            "3/3 [==============================] - 0s 12ms/step - loss: 8.4440 - mae: 8.4440 - mse: 139.7516 - val_loss: 5.4312 - val_mae: 5.4312 - val_mse: 50.5339\n",
            "Epoch 110/300\n",
            "3/3 [==============================] - 0s 14ms/step - loss: 8.4427 - mae: 8.4427 - mse: 139.7237 - val_loss: 5.4296 - val_mae: 5.4296 - val_mse: 50.5133\n",
            "Epoch 111/300\n",
            "3/3 [==============================] - 0s 11ms/step - loss: 8.4417 - mae: 8.4417 - mse: 139.6925 - val_loss: 5.4281 - val_mae: 5.4281 - val_mse: 50.4937\n",
            "Epoch 112/300\n",
            "3/3 [==============================] - 0s 14ms/step - loss: 8.4404 - mae: 8.4404 - mse: 139.6624 - val_loss: 5.4268 - val_mae: 5.4268 - val_mse: 50.4792\n",
            "Epoch 113/300\n",
            "3/3 [==============================] - 0s 11ms/step - loss: 8.4393 - mae: 8.4393 - mse: 139.6356 - val_loss: 5.4259 - val_mae: 5.4259 - val_mse: 50.4702\n",
            "Epoch 114/300\n",
            "3/3 [==============================] - 0s 12ms/step - loss: 8.4382 - mae: 8.4382 - mse: 139.6189 - val_loss: 5.4255 - val_mae: 5.4255 - val_mse: 50.4709\n",
            "Epoch 115/300\n",
            "3/3 [==============================] - 0s 11ms/step - loss: 8.4371 - mae: 8.4371 - mse: 139.6074 - val_loss: 5.4248 - val_mae: 5.4248 - val_mse: 50.4671\n",
            "Epoch 116/300\n",
            "3/3 [==============================] - 0s 15ms/step - loss: 8.4357 - mae: 8.4357 - mse: 139.5853 - val_loss: 5.4234 - val_mae: 5.4234 - val_mse: 50.4494\n",
            "Epoch 117/300\n",
            "3/3 [==============================] - 0s 12ms/step - loss: 8.4345 - mae: 8.4345 - mse: 139.5553 - val_loss: 5.4216 - val_mae: 5.4216 - val_mse: 50.4250\n",
            "Epoch 118/300\n",
            "3/3 [==============================] - 0s 10ms/step - loss: 8.4334 - mae: 8.4334 - mse: 139.5170 - val_loss: 5.4199 - val_mae: 5.4199 - val_mse: 50.4009\n",
            "Epoch 119/300\n",
            "3/3 [==============================] - 0s 11ms/step - loss: 8.4323 - mae: 8.4323 - mse: 139.4846 - val_loss: 5.4184 - val_mae: 5.4184 - val_mse: 50.3831\n",
            "Epoch 120/300\n",
            "3/3 [==============================] - 0s 13ms/step - loss: 8.4312 - mae: 8.4312 - mse: 139.4572 - val_loss: 5.4171 - val_mae: 5.4171 - val_mse: 50.3662\n",
            "Epoch 121/300\n",
            "3/3 [==============================] - 0s 11ms/step - loss: 8.4300 - mae: 8.4300 - mse: 139.4271 - val_loss: 5.4158 - val_mae: 5.4158 - val_mse: 50.3515\n",
            "Epoch 122/300\n",
            "3/3 [==============================] - 0s 14ms/step - loss: 8.4290 - mae: 8.4290 - mse: 139.4006 - val_loss: 5.4145 - val_mae: 5.4145 - val_mse: 50.3360\n",
            "Epoch 123/300\n",
            "3/3 [==============================] - 0s 12ms/step - loss: 8.4277 - mae: 8.4277 - mse: 139.3751 - val_loss: 5.4134 - val_mae: 5.4134 - val_mse: 50.3229\n",
            "Epoch 124/300\n",
            "3/3 [==============================] - 0s 11ms/step - loss: 8.4266 - mae: 8.4266 - mse: 139.3491 - val_loss: 5.4121 - val_mae: 5.4121 - val_mse: 50.3076\n",
            "Epoch 125/300\n",
            "3/3 [==============================] - 0s 11ms/step - loss: 8.4255 - mae: 8.4255 - mse: 139.3224 - val_loss: 5.4107 - val_mae: 5.4107 - val_mse: 50.2894\n",
            "Epoch 126/300\n",
            "3/3 [==============================] - 0s 13ms/step - loss: 8.4243 - mae: 8.4243 - mse: 139.2932 - val_loss: 5.4091 - val_mae: 5.4091 - val_mse: 50.2689\n",
            "Epoch 127/300\n",
            "3/3 [==============================] - 0s 13ms/step - loss: 8.4232 - mae: 8.4232 - mse: 139.2617 - val_loss: 5.4073 - val_mae: 5.4073 - val_mse: 50.2442\n",
            "Epoch 128/300\n",
            "3/3 [==============================] - 0s 12ms/step - loss: 8.4221 - mae: 8.4221 - mse: 139.2206 - val_loss: 5.4053 - val_mae: 5.4053 - val_mse: 50.2171\n",
            "Epoch 129/300\n",
            "3/3 [==============================] - 0s 10ms/step - loss: 8.4209 - mae: 8.4209 - mse: 139.1834 - val_loss: 5.4036 - val_mae: 5.4036 - val_mse: 50.1945\n",
            "Epoch 130/300\n",
            "3/3 [==============================] - 0s 10ms/step - loss: 8.4198 - mae: 8.4198 - mse: 139.1513 - val_loss: 5.4019 - val_mae: 5.4019 - val_mse: 50.1715\n",
            "Epoch 131/300\n",
            "3/3 [==============================] - 0s 10ms/step - loss: 8.4186 - mae: 8.4186 - mse: 139.1164 - val_loss: 5.4000 - val_mae: 5.4000 - val_mse: 50.1455\n",
            "Epoch 132/300\n",
            "3/3 [==============================] - 0s 10ms/step - loss: 8.4173 - mae: 8.4173 - mse: 139.0776 - val_loss: 5.3977 - val_mae: 5.3977 - val_mse: 50.1124\n",
            "Epoch 133/300\n",
            "3/3 [==============================] - 0s 11ms/step - loss: 8.4166 - mae: 8.4166 - mse: 139.0357 - val_loss: 5.3955 - val_mae: 5.3955 - val_mse: 50.0804\n",
            "Epoch 134/300\n",
            "3/3 [==============================] - 0s 13ms/step - loss: 8.4150 - mae: 8.4150 - mse: 138.9891 - val_loss: 5.3935 - val_mae: 5.3935 - val_mse: 50.0529\n",
            "Epoch 135/300\n",
            "3/3 [==============================] - 0s 10ms/step - loss: 8.4140 - mae: 8.4140 - mse: 138.9492 - val_loss: 5.3911 - val_mae: 5.3911 - val_mse: 50.0191\n",
            "Epoch 136/300\n",
            "3/3 [==============================] - 0s 11ms/step - loss: 8.4128 - mae: 8.4128 - mse: 138.9051 - val_loss: 5.3886 - val_mae: 5.3886 - val_mse: 49.9827\n",
            "Epoch 137/300\n",
            "3/3 [==============================] - 0s 12ms/step - loss: 8.4120 - mae: 8.4120 - mse: 138.8601 - val_loss: 5.3863 - val_mae: 5.3863 - val_mse: 49.9494\n",
            "Epoch 138/300\n",
            "3/3 [==============================] - 0s 10ms/step - loss: 8.4107 - mae: 8.4107 - mse: 138.8165 - val_loss: 5.3847 - val_mae: 5.3847 - val_mse: 49.9291\n",
            "Epoch 139/300\n",
            "3/3 [==============================] - 0s 14ms/step - loss: 8.4095 - mae: 8.4095 - mse: 138.7874 - val_loss: 5.3839 - val_mae: 5.3839 - val_mse: 49.9230\n",
            "Epoch 140/300\n",
            "3/3 [==============================] - 0s 12ms/step - loss: 8.4082 - mae: 8.4082 - mse: 138.7693 - val_loss: 5.3831 - val_mae: 5.3831 - val_mse: 49.9178\n",
            "Epoch 141/300\n",
            "3/3 [==============================] - 0s 11ms/step - loss: 8.4068 - mae: 8.4068 - mse: 138.7471 - val_loss: 5.3818 - val_mae: 5.3818 - val_mse: 49.9028\n",
            "Epoch 142/300\n",
            "3/3 [==============================] - 0s 10ms/step - loss: 8.4055 - mae: 8.4055 - mse: 138.7177 - val_loss: 5.3801 - val_mae: 5.3801 - val_mse: 49.8819\n",
            "Epoch 143/300\n",
            "3/3 [==============================] - 0s 11ms/step - loss: 8.4043 - mae: 8.4043 - mse: 138.6865 - val_loss: 5.3787 - val_mae: 5.3787 - val_mse: 49.8651\n",
            "Epoch 144/300\n",
            "3/3 [==============================] - 0s 11ms/step - loss: 8.4028 - mae: 8.4028 - mse: 138.6515 - val_loss: 5.3768 - val_mae: 5.3768 - val_mse: 49.8392\n",
            "Epoch 145/300\n",
            "3/3 [==============================] - 0s 13ms/step - loss: 8.4017 - mae: 8.4017 - mse: 138.6158 - val_loss: 5.3744 - val_mae: 5.3744 - val_mse: 49.8069\n",
            "Epoch 146/300\n",
            "3/3 [==============================] - 0s 11ms/step - loss: 8.4004 - mae: 8.4004 - mse: 138.5669 - val_loss: 5.3724 - val_mae: 5.3724 - val_mse: 49.7792\n",
            "Epoch 147/300\n",
            "3/3 [==============================] - 0s 13ms/step - loss: 8.3991 - mae: 8.3991 - mse: 138.5294 - val_loss: 5.3707 - val_mae: 5.3707 - val_mse: 49.7578\n",
            "Epoch 148/300\n",
            "3/3 [==============================] - 0s 13ms/step - loss: 8.3978 - mae: 8.3978 - mse: 138.4942 - val_loss: 5.3689 - val_mae: 5.3689 - val_mse: 49.7338\n",
            "Epoch 149/300\n",
            "3/3 [==============================] - 0s 12ms/step - loss: 8.3966 - mae: 8.3966 - mse: 138.4577 - val_loss: 5.3667 - val_mae: 5.3667 - val_mse: 49.7045\n",
            "Epoch 150/300\n",
            "3/3 [==============================] - 0s 15ms/step - loss: 8.3954 - mae: 8.3954 - mse: 138.4166 - val_loss: 5.3645 - val_mae: 5.3645 - val_mse: 49.6738\n",
            "Epoch 151/300\n",
            "3/3 [==============================] - 0s 10ms/step - loss: 8.3940 - mae: 8.3940 - mse: 138.3699 - val_loss: 5.3622 - val_mae: 5.3622 - val_mse: 49.6418\n",
            "Epoch 152/300\n",
            "3/3 [==============================] - 0s 11ms/step - loss: 8.3930 - mae: 8.3930 - mse: 138.3318 - val_loss: 5.3600 - val_mae: 5.3600 - val_mse: 49.6119\n",
            "Epoch 153/300\n",
            "3/3 [==============================] - 0s 13ms/step - loss: 8.3917 - mae: 8.3917 - mse: 138.2886 - val_loss: 5.3584 - val_mae: 5.3584 - val_mse: 49.5914\n",
            "Epoch 154/300\n",
            "3/3 [==============================] - 0s 12ms/step - loss: 8.3904 - mae: 8.3904 - mse: 138.2574 - val_loss: 5.3573 - val_mae: 5.3573 - val_mse: 49.5807\n",
            "Epoch 155/300\n",
            "3/3 [==============================] - 0s 12ms/step - loss: 8.3892 - mae: 8.3892 - mse: 138.2364 - val_loss: 5.3566 - val_mae: 5.3566 - val_mse: 49.5749\n",
            "Epoch 156/300\n",
            "3/3 [==============================] - 0s 11ms/step - loss: 8.3880 - mae: 8.3880 - mse: 138.2159 - val_loss: 5.3556 - val_mae: 5.3556 - val_mse: 49.5655\n",
            "Epoch 157/300\n",
            "3/3 [==============================] - 0s 11ms/step - loss: 8.3867 - mae: 8.3867 - mse: 138.1938 - val_loss: 5.3548 - val_mae: 5.3548 - val_mse: 49.5583\n",
            "Epoch 158/300\n",
            "3/3 [==============================] - 0s 13ms/step - loss: 8.3857 - mae: 8.3857 - mse: 138.1782 - val_loss: 5.3543 - val_mae: 5.3543 - val_mse: 49.5567\n",
            "Epoch 159/300\n",
            "3/3 [==============================] - 0s 11ms/step - loss: 8.3844 - mae: 8.3844 - mse: 138.1624 - val_loss: 5.3536 - val_mae: 5.3536 - val_mse: 49.5525\n",
            "Epoch 160/300\n",
            "3/3 [==============================] - 0s 11ms/step - loss: 8.3834 - mae: 8.3834 - mse: 138.1454 - val_loss: 5.3528 - val_mae: 5.3528 - val_mse: 49.5457\n",
            "Epoch 161/300\n",
            "3/3 [==============================] - 0s 14ms/step - loss: 8.3822 - mae: 8.3822 - mse: 138.1262 - val_loss: 5.3517 - val_mae: 5.3517 - val_mse: 49.5346\n",
            "Epoch 162/300\n",
            "3/3 [==============================] - 0s 11ms/step - loss: 8.3809 - mae: 8.3809 - mse: 138.1011 - val_loss: 5.3501 - val_mae: 5.3501 - val_mse: 49.5140\n",
            "Epoch 163/300\n",
            "3/3 [==============================] - 0s 12ms/step - loss: 8.3798 - mae: 8.3798 - mse: 138.0676 - val_loss: 5.3483 - val_mae: 5.3483 - val_mse: 49.4897\n",
            "Epoch 164/300\n",
            "3/3 [==============================] - 0s 12ms/step - loss: 8.3786 - mae: 8.3786 - mse: 138.0308 - val_loss: 5.3467 - val_mae: 5.3467 - val_mse: 49.4711\n",
            "Epoch 165/300\n",
            "3/3 [==============================] - 0s 13ms/step - loss: 8.3773 - mae: 8.3773 - mse: 138.0002 - val_loss: 5.3458 - val_mae: 5.3458 - val_mse: 49.4621\n",
            "Epoch 166/300\n",
            "3/3 [==============================] - 0s 11ms/step - loss: 8.3759 - mae: 8.3759 - mse: 137.9818 - val_loss: 5.3454 - val_mae: 5.3454 - val_mse: 49.4629\n",
            "Epoch 167/300\n",
            "3/3 [==============================] - 0s 11ms/step - loss: 8.3748 - mae: 8.3748 - mse: 137.9712 - val_loss: 5.3449 - val_mae: 5.3449 - val_mse: 49.4622\n",
            "Epoch 168/300\n",
            "3/3 [==============================] - 0s 13ms/step - loss: 8.3736 - mae: 8.3736 - mse: 137.9560 - val_loss: 5.3442 - val_mae: 5.3442 - val_mse: 49.4574\n",
            "Epoch 169/300\n",
            "3/3 [==============================] - 0s 13ms/step - loss: 8.3724 - mae: 8.3724 - mse: 137.9376 - val_loss: 5.3435 - val_mae: 5.3435 - val_mse: 49.4522\n",
            "Epoch 170/300\n",
            "3/3 [==============================] - 0s 13ms/step - loss: 8.3711 - mae: 8.3711 - mse: 137.9187 - val_loss: 5.3426 - val_mae: 5.3426 - val_mse: 49.4447\n",
            "Epoch 171/300\n",
            "3/3 [==============================] - 0s 15ms/step - loss: 8.3698 - mae: 8.3698 - mse: 137.8983 - val_loss: 5.3416 - val_mae: 5.3416 - val_mse: 49.4353\n",
            "Epoch 172/300\n",
            "3/3 [==============================] - 0s 11ms/step - loss: 8.3687 - mae: 8.3687 - mse: 137.8760 - val_loss: 5.3406 - val_mae: 5.3406 - val_mse: 49.4256\n",
            "Epoch 173/300\n",
            "3/3 [==============================] - 0s 13ms/step - loss: 8.3674 - mae: 8.3674 - mse: 137.8519 - val_loss: 5.3391 - val_mae: 5.3391 - val_mse: 49.4085\n",
            "Epoch 174/300\n",
            "3/3 [==============================] - 0s 11ms/step - loss: 8.3660 - mae: 8.3660 - mse: 137.8215 - val_loss: 5.3377 - val_mae: 5.3377 - val_mse: 49.3914\n",
            "Epoch 175/300\n",
            "3/3 [==============================] - 0s 13ms/step - loss: 8.3649 - mae: 8.3649 - mse: 137.7901 - val_loss: 5.3361 - val_mae: 5.3361 - val_mse: 49.3719\n",
            "Epoch 176/300\n",
            "3/3 [==============================] - 0s 13ms/step - loss: 8.3636 - mae: 8.3636 - mse: 137.7587 - val_loss: 5.3350 - val_mae: 5.3350 - val_mse: 49.3611\n",
            "Epoch 177/300\n",
            "3/3 [==============================] - 0s 12ms/step - loss: 8.3623 - mae: 8.3623 - mse: 137.7390 - val_loss: 5.3345 - val_mae: 5.3345 - val_mse: 49.3602\n",
            "Epoch 178/300\n",
            "3/3 [==============================] - 0s 11ms/step - loss: 8.3609 - mae: 8.3609 - mse: 137.7218 - val_loss: 5.3339 - val_mae: 5.3339 - val_mse: 49.3570\n",
            "Epoch 179/300\n",
            "3/3 [==============================] - 0s 12ms/step - loss: 8.3598 - mae: 8.3598 - mse: 137.7091 - val_loss: 5.3337 - val_mae: 5.3337 - val_mse: 49.3625\n",
            "Epoch 180/300\n",
            "3/3 [==============================] - 0s 10ms/step - loss: 8.3584 - mae: 8.3584 - mse: 137.6982 - val_loss: 5.3336 - val_mae: 5.3336 - val_mse: 49.3679\n",
            "Epoch 181/300\n",
            "3/3 [==============================] - 0s 11ms/step - loss: 8.3571 - mae: 8.3571 - mse: 137.6919 - val_loss: 5.3335 - val_mae: 5.3335 - val_mse: 49.3739\n",
            "Epoch 182/300\n",
            "3/3 [==============================] - 0s 12ms/step - loss: 8.3558 - mae: 8.3558 - mse: 137.6870 - val_loss: 5.3339 - val_mae: 5.3339 - val_mse: 49.3898\n",
            "Epoch 183/300\n",
            "3/3 [==============================] - 0s 12ms/step - loss: 8.3539 - mae: 8.3539 - mse: 137.6847 - val_loss: 5.3346 - val_mae: 5.3346 - val_mse: 49.4097\n",
            "Epoch 184/300\n",
            "3/3 [==============================] - 0s 14ms/step - loss: 8.3538 - mae: 8.3538 - mse: 137.6992 - val_loss: 5.3357 - val_mae: 5.3357 - val_mse: 49.4379\n",
            "Epoch 185/300\n",
            "3/3 [==============================] - 0s 11ms/step - loss: 8.3524 - mae: 8.3524 - mse: 137.7143 - val_loss: 5.3359 - val_mae: 5.3359 - val_mse: 49.4487\n",
            "Epoch 186/300\n",
            "3/3 [==============================] - 0s 14ms/step - loss: 8.3515 - mae: 8.3515 - mse: 137.7134 - val_loss: 5.3352 - val_mae: 5.3352 - val_mse: 49.4461\n",
            "Epoch 187/300\n",
            "3/3 [==============================] - 0s 11ms/step - loss: 8.3498 - mae: 8.3498 - mse: 137.6914 - val_loss: 5.3339 - val_mae: 5.3339 - val_mse: 49.4310\n",
            "Epoch 188/300\n",
            "3/3 [==============================] - 0s 14ms/step - loss: 8.3485 - mae: 8.3485 - mse: 137.6604 - val_loss: 5.3324 - val_mae: 5.3324 - val_mse: 49.4133\n",
            "Epoch 189/300\n",
            "3/3 [==============================] - 0s 12ms/step - loss: 8.3471 - mae: 8.3471 - mse: 137.6318 - val_loss: 5.3312 - val_mae: 5.3312 - val_mse: 49.4011\n",
            "Epoch 190/300\n",
            "3/3 [==============================] - 0s 12ms/step - loss: 8.3458 - mae: 8.3458 - mse: 137.6067 - val_loss: 5.3300 - val_mae: 5.3300 - val_mse: 49.3882\n",
            "Epoch 191/300\n",
            "3/3 [==============================] - 0s 13ms/step - loss: 8.3445 - mae: 8.3445 - mse: 137.5809 - val_loss: 5.3287 - val_mae: 5.3287 - val_mse: 49.3756\n",
            "Epoch 192/300\n",
            "3/3 [==============================] - 0s 12ms/step - loss: 8.3431 - mae: 8.3431 - mse: 137.5541 - val_loss: 5.3277 - val_mae: 5.3277 - val_mse: 49.3656\n",
            "Epoch 193/300\n",
            "3/3 [==============================] - 0s 11ms/step - loss: 8.3419 - mae: 8.3419 - mse: 137.5335 - val_loss: 5.3269 - val_mae: 5.3269 - val_mse: 49.3594\n",
            "Epoch 194/300\n",
            "3/3 [==============================] - 0s 12ms/step - loss: 8.3407 - mae: 8.3407 - mse: 137.5143 - val_loss: 5.3260 - val_mae: 5.3260 - val_mse: 49.3512\n",
            "Epoch 195/300\n",
            "3/3 [==============================] - 0s 14ms/step - loss: 8.3395 - mae: 8.3395 - mse: 137.4940 - val_loss: 5.3250 - val_mae: 5.3250 - val_mse: 49.3433\n",
            "Epoch 196/300\n",
            "3/3 [==============================] - 0s 13ms/step - loss: 8.3382 - mae: 8.3382 - mse: 137.4718 - val_loss: 5.3237 - val_mae: 5.3237 - val_mse: 49.3274\n",
            "Epoch 197/300\n",
            "3/3 [==============================] - 0s 11ms/step - loss: 8.3369 - mae: 8.3369 - mse: 137.4440 - val_loss: 5.3222 - val_mae: 5.3222 - val_mse: 49.3105\n",
            "Epoch 198/300\n",
            "3/3 [==============================] - 0s 12ms/step - loss: 8.3357 - mae: 8.3357 - mse: 137.4144 - val_loss: 5.3207 - val_mae: 5.3207 - val_mse: 49.2916\n",
            "Epoch 199/300\n",
            "3/3 [==============================] - 0s 12ms/step - loss: 8.3344 - mae: 8.3344 - mse: 137.3787 - val_loss: 5.3190 - val_mae: 5.3190 - val_mse: 49.2695\n",
            "Epoch 200/300\n",
            "3/3 [==============================] - 0s 13ms/step - loss: 8.3333 - mae: 8.3333 - mse: 137.3481 - val_loss: 5.3170 - val_mae: 5.3170 - val_mse: 49.2427\n",
            "Epoch 201/300\n",
            "3/3 [==============================] - 0s 13ms/step - loss: 8.3320 - mae: 8.3320 - mse: 137.3065 - val_loss: 5.3149 - val_mae: 5.3149 - val_mse: 49.2137\n",
            "Epoch 202/300\n",
            "3/3 [==============================] - 0s 12ms/step - loss: 8.3308 - mae: 8.3308 - mse: 137.2649 - val_loss: 5.3127 - val_mae: 5.3127 - val_mse: 49.1823\n",
            "Epoch 203/300\n",
            "3/3 [==============================] - 0s 12ms/step - loss: 8.3297 - mae: 8.3297 - mse: 137.2252 - val_loss: 5.3107 - val_mae: 5.3107 - val_mse: 49.1558\n",
            "Epoch 204/300\n",
            "3/3 [==============================] - 0s 12ms/step - loss: 8.3285 - mae: 8.3285 - mse: 137.1834 - val_loss: 5.3089 - val_mae: 5.3089 - val_mse: 49.1313\n",
            "Epoch 205/300\n",
            "3/3 [==============================] - 0s 14ms/step - loss: 8.3271 - mae: 8.3271 - mse: 137.1460 - val_loss: 5.3070 - val_mae: 5.3070 - val_mse: 49.1071\n",
            "Epoch 206/300\n",
            "3/3 [==============================] - 0s 14ms/step - loss: 8.3260 - mae: 8.3260 - mse: 137.1100 - val_loss: 5.3051 - val_mae: 5.3051 - val_mse: 49.0814\n",
            "Epoch 207/300\n",
            "3/3 [==============================] - 0s 12ms/step - loss: 8.3247 - mae: 8.3247 - mse: 137.0735 - val_loss: 5.3036 - val_mae: 5.3036 - val_mse: 49.0644\n",
            "Epoch 208/300\n",
            "3/3 [==============================] - 0s 13ms/step - loss: 8.3234 - mae: 8.3234 - mse: 137.0404 - val_loss: 5.3019 - val_mae: 5.3019 - val_mse: 49.0408\n",
            "Epoch 209/300\n",
            "3/3 [==============================] - 0s 13ms/step - loss: 8.3223 - mae: 8.3223 - mse: 137.0062 - val_loss: 5.3001 - val_mae: 5.3001 - val_mse: 49.0180\n",
            "Epoch 210/300\n",
            "3/3 [==============================] - 0s 14ms/step - loss: 8.3213 - mae: 8.3213 - mse: 136.9752 - val_loss: 5.2989 - val_mae: 5.2989 - val_mse: 49.0035\n",
            "Epoch 211/300\n",
            "3/3 [==============================] - 0s 12ms/step - loss: 8.3202 - mae: 8.3202 - mse: 136.9514 - val_loss: 5.2983 - val_mae: 5.2983 - val_mse: 49.0003\n",
            "Epoch 212/300\n",
            "3/3 [==============================] - 0s 13ms/step - loss: 8.3191 - mae: 8.3191 - mse: 136.9387 - val_loss: 5.2979 - val_mae: 5.2979 - val_mse: 48.9990\n",
            "Epoch 213/300\n",
            "3/3 [==============================] - 0s 11ms/step - loss: 8.3180 - mae: 8.3180 - mse: 136.9245 - val_loss: 5.2970 - val_mae: 5.2970 - val_mse: 48.9913\n",
            "Epoch 214/300\n",
            "3/3 [==============================] - 0s 11ms/step - loss: 8.3170 - mae: 8.3170 - mse: 136.9066 - val_loss: 5.2961 - val_mae: 5.2961 - val_mse: 48.9828\n",
            "Epoch 215/300\n",
            "3/3 [==============================] - 0s 15ms/step - loss: 8.3158 - mae: 8.3158 - mse: 136.8864 - val_loss: 5.2953 - val_mae: 5.2953 - val_mse: 48.9751\n",
            "Epoch 216/300\n",
            "3/3 [==============================] - 0s 13ms/step - loss: 8.3148 - mae: 8.3148 - mse: 136.8679 - val_loss: 5.2942 - val_mae: 5.2942 - val_mse: 48.9636\n",
            "Epoch 217/300\n",
            "3/3 [==============================] - 0s 13ms/step - loss: 8.3137 - mae: 8.3137 - mse: 136.8446 - val_loss: 5.2933 - val_mae: 5.2933 - val_mse: 48.9550\n",
            "Epoch 218/300\n",
            "3/3 [==============================] - 0s 12ms/step - loss: 8.3125 - mae: 8.3125 - mse: 136.8253 - val_loss: 5.2924 - val_mae: 5.2924 - val_mse: 48.9476\n",
            "Epoch 219/300\n",
            "3/3 [==============================] - 0s 14ms/step - loss: 8.3114 - mae: 8.3114 - mse: 136.8052 - val_loss: 5.2914 - val_mae: 5.2914 - val_mse: 48.9374\n",
            "Epoch 220/300\n",
            "3/3 [==============================] - 0s 12ms/step - loss: 8.3102 - mae: 8.3102 - mse: 136.7820 - val_loss: 5.2899 - val_mae: 5.2899 - val_mse: 48.9206\n",
            "Epoch 221/300\n",
            "3/3 [==============================] - 0s 13ms/step - loss: 8.3089 - mae: 8.3089 - mse: 136.7528 - val_loss: 5.2882 - val_mae: 5.2882 - val_mse: 48.8981\n",
            "Epoch 222/300\n",
            "3/3 [==============================] - 0s 17ms/step - loss: 8.3077 - mae: 8.3077 - mse: 136.7167 - val_loss: 5.2864 - val_mae: 5.2864 - val_mse: 48.8741\n",
            "Epoch 223/300\n",
            "3/3 [==============================] - 0s 13ms/step - loss: 8.3065 - mae: 8.3065 - mse: 136.6806 - val_loss: 5.2843 - val_mae: 5.2843 - val_mse: 48.8465\n",
            "Epoch 224/300\n",
            "3/3 [==============================] - 0s 15ms/step - loss: 8.3050 - mae: 8.3050 - mse: 136.6351 - val_loss: 5.2820 - val_mae: 5.2820 - val_mse: 48.8141\n",
            "Epoch 225/300\n",
            "3/3 [==============================] - 0s 14ms/step - loss: 8.3042 - mae: 8.3042 - mse: 136.5988 - val_loss: 5.2795 - val_mae: 5.2795 - val_mse: 48.7787\n",
            "Epoch 226/300\n",
            "3/3 [==============================] - 0s 11ms/step - loss: 8.3028 - mae: 8.3028 - mse: 136.5465 - val_loss: 5.2777 - val_mae: 5.2777 - val_mse: 48.7556\n",
            "Epoch 227/300\n",
            "3/3 [==============================] - 0s 22ms/step - loss: 8.3017 - mae: 8.3017 - mse: 136.5123 - val_loss: 5.2761 - val_mae: 5.2761 - val_mse: 48.7344\n",
            "Epoch 228/300\n",
            "3/3 [==============================] - 0s 12ms/step - loss: 8.3004 - mae: 8.3004 - mse: 136.4816 - val_loss: 5.2749 - val_mae: 5.2749 - val_mse: 48.7211\n",
            "Epoch 229/300\n",
            "3/3 [==============================] - 0s 14ms/step - loss: 8.2992 - mae: 8.2992 - mse: 136.4553 - val_loss: 5.2732 - val_mae: 5.2732 - val_mse: 48.7007\n",
            "Epoch 230/300\n",
            "3/3 [==============================] - 0s 11ms/step - loss: 8.2980 - mae: 8.2980 - mse: 136.4208 - val_loss: 5.2713 - val_mae: 5.2713 - val_mse: 48.6759\n",
            "Epoch 231/300\n",
            "3/3 [==============================] - 0s 11ms/step - loss: 8.2968 - mae: 8.2968 - mse: 136.3842 - val_loss: 5.2696 - val_mae: 5.2696 - val_mse: 48.6534\n",
            "Epoch 232/300\n",
            "3/3 [==============================] - 0s 13ms/step - loss: 8.2956 - mae: 8.2956 - mse: 136.3485 - val_loss: 5.2678 - val_mae: 5.2678 - val_mse: 48.6313\n",
            "Epoch 233/300\n",
            "3/3 [==============================] - 0s 13ms/step - loss: 8.2944 - mae: 8.2944 - mse: 136.3145 - val_loss: 5.2662 - val_mae: 5.2662 - val_mse: 48.6116\n",
            "Epoch 234/300\n",
            "3/3 [==============================] - 0s 10ms/step - loss: 8.2930 - mae: 8.2930 - mse: 136.2815 - val_loss: 5.2649 - val_mae: 5.2649 - val_mse: 48.5964\n",
            "Epoch 235/300\n",
            "3/3 [==============================] - 0s 17ms/step - loss: 8.2918 - mae: 8.2918 - mse: 136.2527 - val_loss: 5.2635 - val_mae: 5.2635 - val_mse: 48.5802\n",
            "Epoch 236/300\n",
            "3/3 [==============================] - 0s 11ms/step - loss: 8.2906 - mae: 8.2906 - mse: 136.2266 - val_loss: 5.2623 - val_mae: 5.2623 - val_mse: 48.5685\n",
            "Epoch 237/300\n",
            "3/3 [==============================] - 0s 14ms/step - loss: 8.2893 - mae: 8.2893 - mse: 136.2043 - val_loss: 5.2616 - val_mae: 5.2616 - val_mse: 48.5632\n",
            "Epoch 238/300\n",
            "3/3 [==============================] - 0s 11ms/step - loss: 8.2880 - mae: 8.2880 - mse: 136.1841 - val_loss: 5.2603 - val_mae: 5.2603 - val_mse: 48.5491\n",
            "Epoch 239/300\n",
            "3/3 [==============================] - 0s 13ms/step - loss: 8.2866 - mae: 8.2866 - mse: 136.1541 - val_loss: 5.2589 - val_mae: 5.2589 - val_mse: 48.5342\n",
            "Epoch 240/300\n",
            "3/3 [==============================] - 0s 12ms/step - loss: 8.2854 - mae: 8.2854 - mse: 136.1282 - val_loss: 5.2576 - val_mae: 5.2576 - val_mse: 48.5211\n",
            "Epoch 241/300\n",
            "3/3 [==============================] - 0s 11ms/step - loss: 8.2840 - mae: 8.2840 - mse: 136.1009 - val_loss: 5.2561 - val_mae: 5.2561 - val_mse: 48.5029\n",
            "Epoch 242/300\n",
            "3/3 [==============================] - 0s 12ms/step - loss: 8.2827 - mae: 8.2827 - mse: 136.0669 - val_loss: 5.2542 - val_mae: 5.2542 - val_mse: 48.4786\n",
            "Epoch 243/300\n",
            "3/3 [==============================] - 0s 12ms/step - loss: 8.2814 - mae: 8.2814 - mse: 136.0301 - val_loss: 5.2524 - val_mae: 5.2524 - val_mse: 48.4564\n",
            "Epoch 244/300\n",
            "3/3 [==============================] - 0s 13ms/step - loss: 8.2800 - mae: 8.2800 - mse: 135.9941 - val_loss: 5.2506 - val_mae: 5.2506 - val_mse: 48.4336\n",
            "Epoch 245/300\n",
            "3/3 [==============================] - 0s 10ms/step - loss: 8.2788 - mae: 8.2788 - mse: 135.9590 - val_loss: 5.2488 - val_mae: 5.2488 - val_mse: 48.4102\n",
            "Epoch 246/300\n",
            "3/3 [==============================] - 0s 13ms/step - loss: 8.2774 - mae: 8.2774 - mse: 135.9216 - val_loss: 5.2467 - val_mae: 5.2467 - val_mse: 48.3825\n",
            "Epoch 247/300\n",
            "3/3 [==============================] - 0s 12ms/step - loss: 8.2762 - mae: 8.2762 - mse: 135.8780 - val_loss: 5.2443 - val_mae: 5.2443 - val_mse: 48.3488\n",
            "Epoch 248/300\n",
            "3/3 [==============================] - 0s 13ms/step - loss: 8.2747 - mae: 8.2747 - mse: 135.8332 - val_loss: 5.2420 - val_mae: 5.2420 - val_mse: 48.3174\n",
            "Epoch 249/300\n",
            "3/3 [==============================] - 0s 13ms/step - loss: 8.2740 - mae: 8.2740 - mse: 135.7872 - val_loss: 5.2395 - val_mae: 5.2395 - val_mse: 48.2835\n",
            "Epoch 250/300\n",
            "3/3 [==============================] - 0s 14ms/step - loss: 8.2726 - mae: 8.2726 - mse: 135.7421 - val_loss: 5.2373 - val_mae: 5.2373 - val_mse: 48.2542\n",
            "Epoch 251/300\n",
            "3/3 [==============================] - 0s 15ms/step - loss: 8.2713 - mae: 8.2713 - mse: 135.7025 - val_loss: 5.2358 - val_mae: 5.2358 - val_mse: 48.2351\n",
            "Epoch 252/300\n",
            "3/3 [==============================] - 0s 11ms/step - loss: 8.2700 - mae: 8.2700 - mse: 135.6725 - val_loss: 5.2344 - val_mae: 5.2344 - val_mse: 48.2195\n",
            "Epoch 253/300\n",
            "3/3 [==============================] - 0s 12ms/step - loss: 8.2688 - mae: 8.2688 - mse: 135.6438 - val_loss: 5.2329 - val_mae: 5.2329 - val_mse: 48.2015\n",
            "Epoch 254/300\n",
            "3/3 [==============================] - 0s 17ms/step - loss: 8.2677 - mae: 8.2677 - mse: 135.6167 - val_loss: 5.2319 - val_mae: 5.2319 - val_mse: 48.1920\n",
            "Epoch 255/300\n",
            "3/3 [==============================] - 0s 11ms/step - loss: 8.2664 - mae: 8.2664 - mse: 135.5910 - val_loss: 5.2306 - val_mae: 5.2306 - val_mse: 48.1769\n",
            "Epoch 256/300\n",
            "3/3 [==============================] - 0s 12ms/step - loss: 8.2652 - mae: 8.2652 - mse: 135.5638 - val_loss: 5.2290 - val_mae: 5.2290 - val_mse: 48.1584\n",
            "Epoch 257/300\n",
            "3/3 [==============================] - 0s 15ms/step - loss: 8.2639 - mae: 8.2639 - mse: 135.5303 - val_loss: 5.2272 - val_mae: 5.2272 - val_mse: 48.1348\n",
            "Epoch 258/300\n",
            "3/3 [==============================] - 0s 13ms/step - loss: 8.2628 - mae: 8.2628 - mse: 135.4978 - val_loss: 5.2256 - val_mae: 5.2256 - val_mse: 48.1136\n",
            "Epoch 259/300\n",
            "3/3 [==============================] - 0s 14ms/step - loss: 8.2615 - mae: 8.2615 - mse: 135.4616 - val_loss: 5.2235 - val_mae: 5.2235 - val_mse: 48.0865\n",
            "Epoch 260/300\n",
            "3/3 [==============================] - 0s 12ms/step - loss: 8.2607 - mae: 8.2607 - mse: 135.4222 - val_loss: 5.2212 - val_mae: 5.2212 - val_mse: 48.0539\n",
            "Epoch 261/300\n",
            "3/3 [==============================] - 0s 13ms/step - loss: 8.2593 - mae: 8.2593 - mse: 135.3802 - val_loss: 5.2190 - val_mae: 5.2190 - val_mse: 48.0254\n",
            "Epoch 262/300\n",
            "3/3 [==============================] - 0s 11ms/step - loss: 8.2582 - mae: 8.2582 - mse: 135.3418 - val_loss: 5.2169 - val_mae: 5.2169 - val_mse: 47.9965\n",
            "Epoch 263/300\n",
            "3/3 [==============================] - 0s 12ms/step - loss: 8.2569 - mae: 8.2569 - mse: 135.2962 - val_loss: 5.2149 - val_mae: 5.2149 - val_mse: 47.9703\n",
            "Epoch 264/300\n",
            "3/3 [==============================] - 0s 12ms/step - loss: 8.2559 - mae: 8.2559 - mse: 135.2577 - val_loss: 5.2129 - val_mae: 5.2129 - val_mse: 47.9423\n",
            "Epoch 265/300\n",
            "3/3 [==============================] - 0s 14ms/step - loss: 8.2547 - mae: 8.2547 - mse: 135.2202 - val_loss: 5.2109 - val_mae: 5.2109 - val_mse: 47.9175\n",
            "Epoch 266/300\n",
            "3/3 [==============================] - 0s 12ms/step - loss: 8.2535 - mae: 8.2535 - mse: 135.1851 - val_loss: 5.2088 - val_mae: 5.2088 - val_mse: 47.8879\n",
            "Epoch 267/300\n",
            "3/3 [==============================] - 0s 12ms/step - loss: 8.2523 - mae: 8.2523 - mse: 135.1416 - val_loss: 5.2064 - val_mae: 5.2064 - val_mse: 47.8558\n",
            "Epoch 268/300\n",
            "3/3 [==============================] - 0s 11ms/step - loss: 8.2511 - mae: 8.2511 - mse: 135.0981 - val_loss: 5.2044 - val_mae: 5.2044 - val_mse: 47.8300\n",
            "Epoch 269/300\n",
            "3/3 [==============================] - 0s 11ms/step - loss: 8.2499 - mae: 8.2499 - mse: 135.0588 - val_loss: 5.2025 - val_mae: 5.2025 - val_mse: 47.8042\n",
            "Epoch 270/300\n",
            "3/3 [==============================] - 0s 10ms/step - loss: 8.2489 - mae: 8.2489 - mse: 135.0238 - val_loss: 5.2006 - val_mae: 5.2006 - val_mse: 47.7801\n",
            "Epoch 271/300\n",
            "3/3 [==============================] - 0s 12ms/step - loss: 8.2479 - mae: 8.2479 - mse: 134.9887 - val_loss: 5.1991 - val_mae: 5.1991 - val_mse: 47.7619\n",
            "Epoch 272/300\n",
            "3/3 [==============================] - 0s 11ms/step - loss: 8.2468 - mae: 8.2468 - mse: 134.9607 - val_loss: 5.1981 - val_mae: 5.1981 - val_mse: 47.7521\n",
            "Epoch 273/300\n",
            "3/3 [==============================] - 0s 11ms/step - loss: 8.2457 - mae: 8.2457 - mse: 134.9390 - val_loss: 5.1973 - val_mae: 5.1973 - val_mse: 47.7447\n",
            "Epoch 274/300\n",
            "3/3 [==============================] - 0s 10ms/step - loss: 8.2447 - mae: 8.2447 - mse: 134.9235 - val_loss: 5.1968 - val_mae: 5.1968 - val_mse: 47.7431\n",
            "Epoch 275/300\n",
            "3/3 [==============================] - 0s 12ms/step - loss: 8.2434 - mae: 8.2434 - mse: 134.9067 - val_loss: 5.1959 - val_mae: 5.1959 - val_mse: 47.7359\n",
            "Epoch 276/300\n",
            "3/3 [==============================] - 0s 13ms/step - loss: 8.2423 - mae: 8.2423 - mse: 134.8876 - val_loss: 5.1952 - val_mae: 5.1952 - val_mse: 47.7300\n",
            "Epoch 277/300\n",
            "3/3 [==============================] - 0s 12ms/step - loss: 8.2412 - mae: 8.2412 - mse: 134.8712 - val_loss: 5.1947 - val_mae: 5.1947 - val_mse: 47.7299\n",
            "Epoch 278/300\n",
            "3/3 [==============================] - 0s 11ms/step - loss: 8.2400 - mae: 8.2400 - mse: 134.8614 - val_loss: 5.1944 - val_mae: 5.1944 - val_mse: 47.7322\n",
            "Epoch 279/300\n",
            "3/3 [==============================] - 0s 13ms/step - loss: 8.2388 - mae: 8.2388 - mse: 134.8464 - val_loss: 5.1935 - val_mae: 5.1935 - val_mse: 47.7233\n",
            "Epoch 280/300\n",
            "3/3 [==============================] - 0s 10ms/step - loss: 8.2378 - mae: 8.2378 - mse: 134.8300 - val_loss: 5.1926 - val_mae: 5.1926 - val_mse: 47.7165\n",
            "Epoch 281/300\n",
            "3/3 [==============================] - 0s 13ms/step - loss: 8.2365 - mae: 8.2365 - mse: 134.8057 - val_loss: 5.1912 - val_mae: 5.1912 - val_mse: 47.7013\n",
            "Epoch 282/300\n",
            "3/3 [==============================] - 0s 14ms/step - loss: 8.2353 - mae: 8.2353 - mse: 134.7790 - val_loss: 5.1899 - val_mae: 5.1899 - val_mse: 47.6856\n",
            "Epoch 283/300\n",
            "3/3 [==============================] - 0s 12ms/step - loss: 8.2341 - mae: 8.2341 - mse: 134.7503 - val_loss: 5.1887 - val_mae: 5.1887 - val_mse: 47.6747\n",
            "Epoch 284/300\n",
            "3/3 [==============================] - 0s 12ms/step - loss: 8.2329 - mae: 8.2329 - mse: 134.7278 - val_loss: 5.1878 - val_mae: 5.1878 - val_mse: 47.6668\n",
            "Epoch 285/300\n",
            "3/3 [==============================] - 0s 12ms/step - loss: 8.2318 - mae: 8.2318 - mse: 134.7068 - val_loss: 5.1863 - val_mae: 5.1863 - val_mse: 47.6492\n",
            "Epoch 286/300\n",
            "3/3 [==============================] - 0s 11ms/step - loss: 8.2306 - mae: 8.2306 - mse: 134.6725 - val_loss: 5.1844 - val_mae: 5.1844 - val_mse: 47.6250\n",
            "Epoch 287/300\n",
            "3/3 [==============================] - 0s 13ms/step - loss: 8.2297 - mae: 8.2297 - mse: 134.6415 - val_loss: 5.1829 - val_mae: 5.1829 - val_mse: 47.6059\n",
            "Epoch 288/300\n",
            "3/3 [==============================] - 0s 13ms/step - loss: 8.2282 - mae: 8.2282 - mse: 134.6097 - val_loss: 5.1823 - val_mae: 5.1823 - val_mse: 47.6030\n",
            "Epoch 289/300\n",
            "3/3 [==============================] - 0s 12ms/step - loss: 8.2271 - mae: 8.2271 - mse: 134.5977 - val_loss: 5.1820 - val_mae: 5.1820 - val_mse: 47.6055\n",
            "Epoch 290/300\n",
            "3/3 [==============================] - 0s 13ms/step - loss: 8.2263 - mae: 8.2263 - mse: 134.5898 - val_loss: 5.1817 - val_mae: 5.1817 - val_mse: 47.6071\n",
            "Epoch 291/300\n",
            "3/3 [==============================] - 0s 13ms/step - loss: 8.2250 - mae: 8.2250 - mse: 134.5769 - val_loss: 5.1809 - val_mae: 5.1809 - val_mse: 47.6002\n",
            "Epoch 292/300\n",
            "3/3 [==============================] - 0s 15ms/step - loss: 8.2238 - mae: 8.2238 - mse: 134.5562 - val_loss: 5.1796 - val_mae: 5.1796 - val_mse: 47.5860\n",
            "Epoch 293/300\n",
            "3/3 [==============================] - 0s 11ms/step - loss: 8.2228 - mae: 8.2228 - mse: 134.5312 - val_loss: 5.1781 - val_mae: 5.1781 - val_mse: 47.5678\n",
            "Epoch 294/300\n",
            "3/3 [==============================] - 0s 11ms/step - loss: 8.2217 - mae: 8.2217 - mse: 134.4994 - val_loss: 5.1764 - val_mae: 5.1764 - val_mse: 47.5466\n",
            "Epoch 295/300\n",
            "3/3 [==============================] - 0s 11ms/step - loss: 8.2205 - mae: 8.2205 - mse: 134.4637 - val_loss: 5.1746 - val_mae: 5.1746 - val_mse: 47.5246\n",
            "Epoch 296/300\n",
            "3/3 [==============================] - 0s 12ms/step - loss: 8.2194 - mae: 8.2194 - mse: 134.4334 - val_loss: 5.1733 - val_mae: 5.1733 - val_mse: 47.5104\n",
            "Epoch 297/300\n",
            "3/3 [==============================] - 0s 18ms/step - loss: 8.2183 - mae: 8.2183 - mse: 134.4091 - val_loss: 5.1727 - val_mae: 5.1727 - val_mse: 47.5061\n",
            "Epoch 298/300\n",
            "3/3 [==============================] - 0s 14ms/step - loss: 8.2171 - mae: 8.2171 - mse: 134.3942 - val_loss: 5.1720 - val_mae: 5.1720 - val_mse: 47.5026\n",
            "Epoch 299/300\n",
            "3/3 [==============================] - 0s 14ms/step - loss: 8.2160 - mae: 8.2160 - mse: 134.3760 - val_loss: 5.1710 - val_mae: 5.1710 - val_mse: 47.4930\n",
            "Epoch 300/300\n",
            "3/3 [==============================] - 0s 12ms/step - loss: 8.2149 - mae: 8.2149 - mse: 134.3562 - val_loss: 5.1703 - val_mae: 5.1703 - val_mse: 47.4876\n"
          ],
          "name": "stdout"
        }
      ]
    },
    {
      "cell_type": "code",
      "metadata": {
        "colab": {
          "base_uri": "https://localhost:8080/"
        },
        "id": "ZB8xXGL6T97h",
        "outputId": "eb34e907-9148-402a-aedf-c15602c5cbdb"
      },
      "source": [
        "\n",
        "print(history)"
      ],
      "execution_count": 162,
      "outputs": [
        {
          "output_type": "stream",
          "text": [
            "<tensorflow.python.keras.callbacks.History object at 0x7fb66074e3d0>\n"
          ],
          "name": "stdout"
        }
      ]
    },
    {
      "cell_type": "code",
      "metadata": {
        "colab": {
          "base_uri": "https://localhost:8080/"
        },
        "id": "hxHtONJjUD2r",
        "outputId": "bb029344-0914-42c8-bf30-9d360d6cd7da"
      },
      "source": [
        "model.summary()\n"
      ],
      "execution_count": 163,
      "outputs": [
        {
          "output_type": "stream",
          "text": [
            "Model: \"sequential_1\"\n",
            "_________________________________________________________________\n",
            "Layer (type)                 Output Shape              Param #   \n",
            "=================================================================\n",
            "dense_1 (Dense)              (None, 1)                 2         \n",
            "=================================================================\n",
            "Total params: 2\n",
            "Trainable params: 2\n",
            "Non-trainable params: 0\n",
            "_________________________________________________________________\n"
          ],
          "name": "stdout"
        }
      ]
    },
    {
      "cell_type": "code",
      "metadata": {
        "colab": {
          "base_uri": "https://localhost:8080/",
          "height": 1000
        },
        "id": "dgFIygo7UJ71",
        "outputId": "6e23996f-1aa7-497c-89b2-511f6bb8f5d7"
      },
      "source": [
        "\n",
        "# tempString = 'mse'\n",
        "def curvePlots(tempString):\n",
        "  plt.plot(history.history[tempString])\n",
        "  plt.plot(history.history[f'val_{tempString}'])\n",
        "  plt.xlabel('NumEpochs')\n",
        "  plt.ylabel(tempString)\n",
        "  plt.legend([tempString, f'val_{tempString}'])\n",
        "  plt.show()\n",
        "\n",
        "\n",
        "curvePlots('mse')\n",
        "curvePlots('mae')\n",
        "curvePlots('loss')"
      ],
      "execution_count": 164,
      "outputs": [
        {
          "output_type": "display_data",
          "data": {
            "image/png": "[encoded data removed]",
            "text/plain": [
              "<Figure size 576x396 with 1 Axes>"
            ]
          },
          "metadata": {
            "tags": []
          }
        },
        {
          "output_type": "display_data",
          "data": {
            "image/png": "[encoded data removed]",
            "text/plain": [
              "<Figure size 576x396 with 1 Axes>"
            ]
          },
          "metadata": {
            "tags": []
          }
        },
        {
          "output_type": "display_data",
          "data": {
            "image/png": "[encoded data removed]",
            "text/plain": [
              "<Figure size 576x396 with 1 Axes>"
            ]
          },
          "metadata": {
            "tags": []
          }
        }
      ]
    },
    {
      "cell_type": "code",
      "metadata": {
        "colab": {
          "base_uri": "https://localhost:8080/"
        },
        "id": "7SwP_dIpUO5-",
        "outputId": "b4ee4737-11ad-47fc-a866-0fdfdc404af8"
      },
      "source": [
        "model.predict([1])"
      ],
      "execution_count": 149,
      "outputs": [
        {
          "output_type": "execute_result",
          "data": {
            "text/plain": [
              "array([[2.8020759]], dtype=float32)"
            ]
          },
          "metadata": {
            "tags": []
          },
          "execution_count": 149
        }
      ]
    },
    {
      "cell_type": "code",
      "metadata": {
        "colab": {
          "base_uri": "https://localhost:8080/"
        },
        "id": "k0JcS4o5UTG8",
        "outputId": "172cf975-defa-4d7f-df15-e9899949ddbc"
      },
      "source": [
        "# testPreds = model.predict(testFeatures).flatten() #array of all prediction values\n",
        "\n",
        "#for single values\n",
        "\n",
        "print(f'Prediction for input value 1: {model.predict([1])}')\n",
        "\n",
        "\n",
        "# for a list of values\n",
        "tempListforPreds = [1,2,3,4,5]\n",
        "print(f'''\n",
        "\n",
        "input List = {tempListforPreds}\n",
        "\n",
        "\n",
        "List of Predictions:\n",
        "{model.predict(tempListforPreds)}\n",
        "\n",
        "List of Predictions (flattened out):\n",
        "{model.predict(tempListforPreds).flatten()}\n",
        "''')"
      ],
      "execution_count": 150,
      "outputs": [
        {
          "output_type": "stream",
          "text": [
            "Prediction for input value 1: [[2.8020759]]\n",
            "\n",
            "\n",
            "input List = [1, 2, 3, 4, 5]\n",
            "\n",
            "\n",
            "List of Predictions:\n",
            "[[2.8020759]\n",
            " [3.4030974]\n",
            " [4.004119 ]\n",
            " [4.6051407]\n",
            " [5.2061625]]\n",
            "\n",
            "List of Predictions (flattened out):\n",
            "[2.8020759 3.4030974 4.004119  4.6051407 5.2061625]\n",
            "\n"
          ],
          "name": "stdout"
        }
      ]
    },
    {
      "cell_type": "code",
      "metadata": {
        "colab": {
          "base_uri": "https://localhost:8080/"
        },
        "id": "-OF-IHNQYXog",
        "outputId": "712c520f-d4fe-47b6-b5c2-fcab82877a8b"
      },
      "source": [
        "print(testFeatures)"
      ],
      "execution_count": 151,
      "outputs": [
        {
          "output_type": "stream",
          "text": [
            "    Level1\n",
            "9        2\n",
            "12       9\n",
            "21       1\n",
            "25       1\n",
            "36      12\n",
            "37       4\n",
            "39       4\n",
            "44       5\n",
            "46       2\n",
            "47       3\n",
            "58       1\n",
            "64       3\n",
            "65       3\n",
            "67       5\n",
            "70       5\n",
            "80       4\n",
            "82       3\n"
          ],
          "name": "stdout"
        }
      ]
    },
    {
      "cell_type": "code",
      "metadata": {
        "id": "V08rbsxpYc1l"
      },
      "source": [
        "\n",
        "testPreds = model.predict(testFeatures).flatten() #array of all prediction values"
      ],
      "execution_count": 152,
      "outputs": []
    },
    {
      "cell_type": "code",
      "metadata": {
        "colab": {
          "base_uri": "https://localhost:8080/"
        },
        "id": "fYJzWFMbYgkh",
        "outputId": "49d5264d-16c7-42ee-e22c-dc2cfe05dd3d"
      },
      "source": [
        "\n",
        "print(len(testPreds))\n",
        "print(testPreds)"
      ],
      "execution_count": 153,
      "outputs": [
        {
          "output_type": "stream",
          "text": [
            "17\n",
            "[3.4030974 7.610249  2.8020759 2.8020759 9.413314  4.6051407 4.6051407\n",
            " 5.2061625 3.4030974 4.004119  2.8020759 4.004119  4.004119  5.2061625\n",
            " 5.2061625 4.6051407 4.004119 ]\n"
          ],
          "name": "stdout"
        }
      ]
    },
    {
      "cell_type": "code",
      "metadata": {
        "colab": {
          "base_uri": "https://localhost:8080/",
          "height": 361
        },
        "id": "_U235w9nYkfA",
        "outputId": "ce77963b-ba51-4eae-ce51-11a25d68d77b"
      },
      "source": [
        "# prediciton plot --> how well is your model predicting across the actual labels\n",
        "\n",
        "def predPlot(labels, predictions):\n",
        "  plt.scatter(labels, predictions)\n",
        "  plt.ylabel('Predictions')\n",
        "  plt.xlabel('True Value or Labels')\n",
        "  plt.axis('equal')\n",
        "  plt.axis('square')\n",
        "  plt.xlim([0, plt.xlim()[1]])\n",
        "  plt.ylim([0, plt.ylim()[1]])\n",
        "  plt.show()\n",
        "\n",
        "predPlot(testLabels, testPreds)"
      ],
      "execution_count": 166,
      "outputs": [
        {
          "output_type": "display_data",
          "data": {
            "image/png": "[encoded data removed]",
            "text/plain": [
              "<Figure size 576x396 with 1 Axes>"
            ]
          },
          "metadata": {
            "tags": []
          }
        }
      ]
    },
    {
      "cell_type": "code",
      "metadata": {
        "colab": {
          "base_uri": "https://localhost:8080/",
          "height": 361
        },
        "id": "CoMQqllnYpnL",
        "outputId": "60d050cc-ef53-4b71-b61f-d150d27a6af7"
      },
      "source": [
        "#error plot --> gaussian distribution \n",
        "\n",
        "def errorPlot(preds, labels, counts):\n",
        "  errors = preds - labels\n",
        "  plt.hist(errors, counts)\n",
        "  plt.xlabel('Error')\n",
        "  plt.ylabel('Counts')\n",
        "  plt.show()\n",
        "\n",
        "errorPlot(testPreds, testLabels, numEpochs)"
      ],
      "execution_count": 167,
      "outputs": [
        {
          "output_type": "display_data",
          "data": {
            "image/png": "[encoded data removed]",
            "text/plain": [
              "<Figure size 576x396 with 1 Axes>"
            ]
          },
          "metadata": {
            "tags": []
          }
        }
      ]
    }
  ]
}